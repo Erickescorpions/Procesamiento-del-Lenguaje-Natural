{
 "cells": [
  {
   "cell_type": "markdown",
   "id": "2dac81c7",
   "metadata": {},
   "source": [
    "# Ejercicio 8\n",
    "\n",
    "- Muñoz Tamés Maria Angel\n",
    "- Fuerte Martinez Nestor Enrique\n",
    "- Vazquez Sanchez Erick Alejandro"
   ]
  },
  {
   "cell_type": "code",
   "execution_count": 1,
   "id": "e1c62a36",
   "metadata": {},
   "outputs": [
    {
     "name": "stdout",
     "output_type": "stream",
     "text": [
      "Requirement already satisfied: scikit-learn in c:\\users\\erick\\workspaces\\procesamiento-lenguaje\\venv\\lib\\site-packages (1.5.1)Note: you may need to restart the kernel to use updated packages.\n",
      "\n",
      "Requirement already satisfied: numpy>=1.19.5 in c:\\users\\erick\\workspaces\\procesamiento-lenguaje\\venv\\lib\\site-packages (from scikit-learn) (2.1.1)\n",
      "Requirement already satisfied: scipy>=1.6.0 in c:\\users\\erick\\workspaces\\procesamiento-lenguaje\\venv\\lib\\site-packages (from scikit-learn) (1.14.1)\n",
      "Requirement already satisfied: joblib>=1.2.0 in c:\\users\\erick\\workspaces\\procesamiento-lenguaje\\venv\\lib\\site-packages (from scikit-learn) (1.4.2)\n",
      "Requirement already satisfied: threadpoolctl>=3.1.0 in c:\\users\\erick\\workspaces\\procesamiento-lenguaje\\venv\\lib\\site-packages (from scikit-learn) (3.5.0)\n",
      "Requirement already satisfied: pandas in c:\\users\\erick\\workspaces\\procesamiento-lenguaje\\venv\\lib\\site-packages (2.2.2)\n",
      "Requirement already satisfied: numpy>=1.26.0 in c:\\users\\erick\\workspaces\\procesamiento-lenguaje\\venv\\lib\\site-packages (from pandas) (2.1.1)\n",
      "Requirement already satisfied: python-dateutil>=2.8.2 in c:\\users\\erick\\workspaces\\procesamiento-lenguaje\\venv\\lib\\site-packages (from pandas) (2.9.0.post0)\n",
      "Requirement already satisfied: pytz>=2020.1 in c:\\users\\erick\\workspaces\\procesamiento-lenguaje\\venv\\lib\\site-packages (from pandas) (2024.1)\n",
      "Requirement already satisfied: tzdata>=2022.7 in c:\\users\\erick\\workspaces\\procesamiento-lenguaje\\venv\\lib\\site-packages (from pandas) (2024.1)\n",
      "Requirement already satisfied: six>=1.5 in c:\\users\\erick\\workspaces\\procesamiento-lenguaje\\venv\\lib\\site-packages (from python-dateutil>=2.8.2->pandas) (1.16.0)\n",
      "Note: you may need to restart the kernel to use updated packages.\n",
      "Note: you may need to restart the kernel to use updated packages.\n"
     ]
    },
    {
     "name": "stderr",
     "output_type": "stream",
     "text": [
      "ERROR: You must give at least one requirement to install (see \"pip help install\")\n"
     ]
    }
   ],
   "source": [
    "%pip install scikit-learn\n",
    "%pip install pandas\n",
    "%pip install \n"
   ]
  },
  {
   "cell_type": "markdown",
   "id": "4b00f678-39f7-4be2-aa51-cc4737fcd1a0",
   "metadata": {},
   "source": [
    "## Naive Bayes "
   ]
  },
  {
   "cell_type": "markdown",
   "id": "c3d5ac6f-124d-40d1-8e97-ae14a28efb2a",
   "metadata": {},
   "source": [
    "- Dataset: https://www.kaggle.com/datasets/clmentbisaillon/fake-and-real-news-dataset"
   ]
  },
  {
   "cell_type": "code",
   "execution_count": 2,
   "id": "d1458c2c-1dfe-4638-8655-a28df1ccd4ef",
   "metadata": {},
   "outputs": [],
   "source": [
    "import pandas as pd"
   ]
  },
  {
   "cell_type": "code",
   "execution_count": 3,
   "id": "6f850e02-db52-441f-99dd-41a7e08b594c",
   "metadata": {},
   "outputs": [],
   "source": [
    "fake_df = pd.read_csv('./Fake.csv')  \n",
    "true_df = pd.read_csv('./True.csv')  "
   ]
  },
  {
   "cell_type": "code",
   "execution_count": 4,
   "id": "35f0db65-4358-4f2b-baa7-3cf6250519ee",
   "metadata": {},
   "outputs": [
    {
     "data": {
      "text/html": [
       "<div>\n",
       "<style scoped>\n",
       "    .dataframe tbody tr th:only-of-type {\n",
       "        vertical-align: middle;\n",
       "    }\n",
       "\n",
       "    .dataframe tbody tr th {\n",
       "        vertical-align: top;\n",
       "    }\n",
       "\n",
       "    .dataframe thead th {\n",
       "        text-align: right;\n",
       "    }\n",
       "</style>\n",
       "<table border=\"1\" class=\"dataframe\">\n",
       "  <thead>\n",
       "    <tr style=\"text-align: right;\">\n",
       "      <th></th>\n",
       "      <th>title</th>\n",
       "      <th>text</th>\n",
       "      <th>subject</th>\n",
       "      <th>date</th>\n",
       "    </tr>\n",
       "  </thead>\n",
       "  <tbody>\n",
       "    <tr>\n",
       "      <th>0</th>\n",
       "      <td>Donald Trump Sends Out Embarrassing New Year’...</td>\n",
       "      <td>Donald Trump just couldn t wish all Americans ...</td>\n",
       "      <td>News</td>\n",
       "      <td>December 31, 2017</td>\n",
       "    </tr>\n",
       "    <tr>\n",
       "      <th>1</th>\n",
       "      <td>Drunk Bragging Trump Staffer Started Russian ...</td>\n",
       "      <td>House Intelligence Committee Chairman Devin Nu...</td>\n",
       "      <td>News</td>\n",
       "      <td>December 31, 2017</td>\n",
       "    </tr>\n",
       "    <tr>\n",
       "      <th>2</th>\n",
       "      <td>Sheriff David Clarke Becomes An Internet Joke...</td>\n",
       "      <td>On Friday, it was revealed that former Milwauk...</td>\n",
       "      <td>News</td>\n",
       "      <td>December 30, 2017</td>\n",
       "    </tr>\n",
       "    <tr>\n",
       "      <th>3</th>\n",
       "      <td>Trump Is So Obsessed He Even Has Obama’s Name...</td>\n",
       "      <td>On Christmas day, Donald Trump announced that ...</td>\n",
       "      <td>News</td>\n",
       "      <td>December 29, 2017</td>\n",
       "    </tr>\n",
       "    <tr>\n",
       "      <th>4</th>\n",
       "      <td>Pope Francis Just Called Out Donald Trump Dur...</td>\n",
       "      <td>Pope Francis used his annual Christmas Day mes...</td>\n",
       "      <td>News</td>\n",
       "      <td>December 25, 2017</td>\n",
       "    </tr>\n",
       "  </tbody>\n",
       "</table>\n",
       "</div>"
      ],
      "text/plain": [
       "                                               title  \\\n",
       "0   Donald Trump Sends Out Embarrassing New Year’...   \n",
       "1   Drunk Bragging Trump Staffer Started Russian ...   \n",
       "2   Sheriff David Clarke Becomes An Internet Joke...   \n",
       "3   Trump Is So Obsessed He Even Has Obama’s Name...   \n",
       "4   Pope Francis Just Called Out Donald Trump Dur...   \n",
       "\n",
       "                                                text subject  \\\n",
       "0  Donald Trump just couldn t wish all Americans ...    News   \n",
       "1  House Intelligence Committee Chairman Devin Nu...    News   \n",
       "2  On Friday, it was revealed that former Milwauk...    News   \n",
       "3  On Christmas day, Donald Trump announced that ...    News   \n",
       "4  Pope Francis used his annual Christmas Day mes...    News   \n",
       "\n",
       "                date  \n",
       "0  December 31, 2017  \n",
       "1  December 31, 2017  \n",
       "2  December 30, 2017  \n",
       "3  December 29, 2017  \n",
       "4  December 25, 2017  "
      ]
     },
     "execution_count": 4,
     "metadata": {},
     "output_type": "execute_result"
    }
   ],
   "source": [
    "# Regresa las primeras n filas, n por defecto vale 5\n",
    "fake_df.head()"
   ]
  },
  {
   "cell_type": "markdown",
   "id": "bb0ca784-81d1-4294-923f-6ae1882587d9",
   "metadata": {},
   "source": [
    "- Agregar etiquetas de clase"
   ]
  },
  {
   "cell_type": "code",
   "execution_count": 5,
   "id": "9e75ec97-b996-49ff-a7a6-7c17aaac1371",
   "metadata": {},
   "outputs": [],
   "source": [
    "# Agrega una etiqueta para cada clase\n",
    "fake_df['target'] = 1\n",
    "true_df['target'] = 0"
   ]
  },
  {
   "cell_type": "code",
   "execution_count": 6,
   "id": "af89b494-7e3c-486c-837e-326a9b96a3bc",
   "metadata": {},
   "outputs": [
    {
     "data": {
      "text/plain": [
       "(23481, 21417)"
      ]
     },
     "execution_count": 6,
     "metadata": {},
     "output_type": "execute_result"
    }
   ],
   "source": [
    "len(fake_df), len(true_df)"
   ]
  },
  {
   "cell_type": "code",
   "execution_count": 7,
   "id": "b55f28f4-46f3-4e92-aae0-9fc159bfea69",
   "metadata": {},
   "outputs": [
    {
     "data": {
      "text/html": [
       "<div>\n",
       "<style scoped>\n",
       "    .dataframe tbody tr th:only-of-type {\n",
       "        vertical-align: middle;\n",
       "    }\n",
       "\n",
       "    .dataframe tbody tr th {\n",
       "        vertical-align: top;\n",
       "    }\n",
       "\n",
       "    .dataframe thead th {\n",
       "        text-align: right;\n",
       "    }\n",
       "</style>\n",
       "<table border=\"1\" class=\"dataframe\">\n",
       "  <thead>\n",
       "    <tr style=\"text-align: right;\">\n",
       "      <th></th>\n",
       "      <th>title</th>\n",
       "      <th>text</th>\n",
       "      <th>subject</th>\n",
       "      <th>date</th>\n",
       "      <th>target</th>\n",
       "    </tr>\n",
       "  </thead>\n",
       "  <tbody>\n",
       "    <tr>\n",
       "      <th>23476</th>\n",
       "      <td>McPain: John McCain Furious That Iran Treated ...</td>\n",
       "      <td>21st Century Wire says As 21WIRE reported earl...</td>\n",
       "      <td>Middle-east</td>\n",
       "      <td>January 16, 2016</td>\n",
       "      <td>1</td>\n",
       "    </tr>\n",
       "    <tr>\n",
       "      <th>23477</th>\n",
       "      <td>JUSTICE? Yahoo Settles E-mail Privacy Class-ac...</td>\n",
       "      <td>21st Century Wire says It s a familiar theme. ...</td>\n",
       "      <td>Middle-east</td>\n",
       "      <td>January 16, 2016</td>\n",
       "      <td>1</td>\n",
       "    </tr>\n",
       "    <tr>\n",
       "      <th>23478</th>\n",
       "      <td>Sunnistan: US and Allied ‘Safe Zone’ Plan to T...</td>\n",
       "      <td>Patrick Henningsen  21st Century WireRemember ...</td>\n",
       "      <td>Middle-east</td>\n",
       "      <td>January 15, 2016</td>\n",
       "      <td>1</td>\n",
       "    </tr>\n",
       "    <tr>\n",
       "      <th>23479</th>\n",
       "      <td>How to Blow $700 Million: Al Jazeera America F...</td>\n",
       "      <td>21st Century Wire says Al Jazeera America will...</td>\n",
       "      <td>Middle-east</td>\n",
       "      <td>January 14, 2016</td>\n",
       "      <td>1</td>\n",
       "    </tr>\n",
       "    <tr>\n",
       "      <th>23480</th>\n",
       "      <td>10 U.S. Navy Sailors Held by Iranian Military ...</td>\n",
       "      <td>21st Century Wire says As 21WIRE predicted in ...</td>\n",
       "      <td>Middle-east</td>\n",
       "      <td>January 12, 2016</td>\n",
       "      <td>1</td>\n",
       "    </tr>\n",
       "  </tbody>\n",
       "</table>\n",
       "</div>"
      ],
      "text/plain": [
       "                                                   title  \\\n",
       "23476  McPain: John McCain Furious That Iran Treated ...   \n",
       "23477  JUSTICE? Yahoo Settles E-mail Privacy Class-ac...   \n",
       "23478  Sunnistan: US and Allied ‘Safe Zone’ Plan to T...   \n",
       "23479  How to Blow $700 Million: Al Jazeera America F...   \n",
       "23480  10 U.S. Navy Sailors Held by Iranian Military ...   \n",
       "\n",
       "                                                    text      subject  \\\n",
       "23476  21st Century Wire says As 21WIRE reported earl...  Middle-east   \n",
       "23477  21st Century Wire says It s a familiar theme. ...  Middle-east   \n",
       "23478  Patrick Henningsen  21st Century WireRemember ...  Middle-east   \n",
       "23479  21st Century Wire says Al Jazeera America will...  Middle-east   \n",
       "23480  21st Century Wire says As 21WIRE predicted in ...  Middle-east   \n",
       "\n",
       "                   date  target  \n",
       "23476  January 16, 2016       1  \n",
       "23477  January 16, 2016       1  \n",
       "23478  January 15, 2016       1  \n",
       "23479  January 14, 2016       1  \n",
       "23480  January 12, 2016       1  "
      ]
     },
     "execution_count": 7,
     "metadata": {},
     "output_type": "execute_result"
    }
   ],
   "source": [
    "fake_df.tail()"
   ]
  },
  {
   "cell_type": "markdown",
   "id": "50cecb75-3a47-4915-99c4-1c3636eadc4a",
   "metadata": {},
   "source": [
    "- Crea un df de los dos archivos"
   ]
  },
  {
   "cell_type": "code",
   "execution_count": 8,
   "id": "03b3818f-05d4-4d42-bbec-aa027bc373d3",
   "metadata": {},
   "outputs": [
    {
     "data": {
      "text/html": [
       "<div>\n",
       "<style scoped>\n",
       "    .dataframe tbody tr th:only-of-type {\n",
       "        vertical-align: middle;\n",
       "    }\n",
       "\n",
       "    .dataframe tbody tr th {\n",
       "        vertical-align: top;\n",
       "    }\n",
       "\n",
       "    .dataframe thead th {\n",
       "        text-align: right;\n",
       "    }\n",
       "</style>\n",
       "<table border=\"1\" class=\"dataframe\">\n",
       "  <thead>\n",
       "    <tr style=\"text-align: right;\">\n",
       "      <th></th>\n",
       "      <th>title</th>\n",
       "      <th>text</th>\n",
       "      <th>subject</th>\n",
       "      <th>date</th>\n",
       "      <th>target</th>\n",
       "    </tr>\n",
       "  </thead>\n",
       "  <tbody>\n",
       "    <tr>\n",
       "      <th>0</th>\n",
       "      <td>As U.S. budget fight looms, Republicans flip t...</td>\n",
       "      <td>WASHINGTON (Reuters) - The head of a conservat...</td>\n",
       "      <td>politicsNews</td>\n",
       "      <td>December 31, 2017</td>\n",
       "      <td>0</td>\n",
       "    </tr>\n",
       "    <tr>\n",
       "      <th>1</th>\n",
       "      <td>U.S. military to accept transgender recruits o...</td>\n",
       "      <td>WASHINGTON (Reuters) - Transgender people will...</td>\n",
       "      <td>politicsNews</td>\n",
       "      <td>December 29, 2017</td>\n",
       "      <td>0</td>\n",
       "    </tr>\n",
       "    <tr>\n",
       "      <th>2</th>\n",
       "      <td>Senior U.S. Republican senator: 'Let Mr. Muell...</td>\n",
       "      <td>WASHINGTON (Reuters) - The special counsel inv...</td>\n",
       "      <td>politicsNews</td>\n",
       "      <td>December 31, 2017</td>\n",
       "      <td>0</td>\n",
       "    </tr>\n",
       "    <tr>\n",
       "      <th>3</th>\n",
       "      <td>FBI Russia probe helped by Australian diplomat...</td>\n",
       "      <td>WASHINGTON (Reuters) - Trump campaign adviser ...</td>\n",
       "      <td>politicsNews</td>\n",
       "      <td>December 30, 2017</td>\n",
       "      <td>0</td>\n",
       "    </tr>\n",
       "    <tr>\n",
       "      <th>4</th>\n",
       "      <td>Trump wants Postal Service to charge 'much mor...</td>\n",
       "      <td>SEATTLE/WASHINGTON (Reuters) - President Donal...</td>\n",
       "      <td>politicsNews</td>\n",
       "      <td>December 29, 2017</td>\n",
       "      <td>0</td>\n",
       "    </tr>\n",
       "  </tbody>\n",
       "</table>\n",
       "</div>"
      ],
      "text/plain": [
       "                                               title  \\\n",
       "0  As U.S. budget fight looms, Republicans flip t...   \n",
       "1  U.S. military to accept transgender recruits o...   \n",
       "2  Senior U.S. Republican senator: 'Let Mr. Muell...   \n",
       "3  FBI Russia probe helped by Australian diplomat...   \n",
       "4  Trump wants Postal Service to charge 'much mor...   \n",
       "\n",
       "                                                text       subject  \\\n",
       "0  WASHINGTON (Reuters) - The head of a conservat...  politicsNews   \n",
       "1  WASHINGTON (Reuters) - Transgender people will...  politicsNews   \n",
       "2  WASHINGTON (Reuters) - The special counsel inv...  politicsNews   \n",
       "3  WASHINGTON (Reuters) - Trump campaign adviser ...  politicsNews   \n",
       "4  SEATTLE/WASHINGTON (Reuters) - President Donal...  politicsNews   \n",
       "\n",
       "                 date  target  \n",
       "0  December 31, 2017        0  \n",
       "1  December 29, 2017        0  \n",
       "2  December 31, 2017        0  \n",
       "3  December 30, 2017        0  \n",
       "4  December 29, 2017        0  "
      ]
     },
     "execution_count": 8,
     "metadata": {},
     "output_type": "execute_result"
    }
   ],
   "source": [
    "df = pd.concat([true_df, fake_df])\n",
    "# Resetea el indice? \n",
    "df = df.reset_index(drop=True) # Create id to avoid nan and replicate id bug\n",
    "df.head()"
   ]
  },
  {
   "cell_type": "code",
   "execution_count": 9,
   "id": "9811ed46-8db4-4858-be7d-a5b2a8cf138d",
   "metadata": {},
   "outputs": [
    {
     "data": {
      "text/html": [
       "<div>\n",
       "<style scoped>\n",
       "    .dataframe tbody tr th:only-of-type {\n",
       "        vertical-align: middle;\n",
       "    }\n",
       "\n",
       "    .dataframe tbody tr th {\n",
       "        vertical-align: top;\n",
       "    }\n",
       "\n",
       "    .dataframe thead th {\n",
       "        text-align: right;\n",
       "    }\n",
       "</style>\n",
       "<table border=\"1\" class=\"dataframe\">\n",
       "  <thead>\n",
       "    <tr style=\"text-align: right;\">\n",
       "      <th></th>\n",
       "      <th>title</th>\n",
       "      <th>text</th>\n",
       "      <th>subject</th>\n",
       "      <th>date</th>\n",
       "      <th>target</th>\n",
       "    </tr>\n",
       "  </thead>\n",
       "  <tbody>\n",
       "    <tr>\n",
       "      <th>44893</th>\n",
       "      <td>McPain: John McCain Furious That Iran Treated ...</td>\n",
       "      <td>21st Century Wire says As 21WIRE reported earl...</td>\n",
       "      <td>Middle-east</td>\n",
       "      <td>January 16, 2016</td>\n",
       "      <td>1</td>\n",
       "    </tr>\n",
       "    <tr>\n",
       "      <th>44894</th>\n",
       "      <td>JUSTICE? Yahoo Settles E-mail Privacy Class-ac...</td>\n",
       "      <td>21st Century Wire says It s a familiar theme. ...</td>\n",
       "      <td>Middle-east</td>\n",
       "      <td>January 16, 2016</td>\n",
       "      <td>1</td>\n",
       "    </tr>\n",
       "    <tr>\n",
       "      <th>44895</th>\n",
       "      <td>Sunnistan: US and Allied ‘Safe Zone’ Plan to T...</td>\n",
       "      <td>Patrick Henningsen  21st Century WireRemember ...</td>\n",
       "      <td>Middle-east</td>\n",
       "      <td>January 15, 2016</td>\n",
       "      <td>1</td>\n",
       "    </tr>\n",
       "    <tr>\n",
       "      <th>44896</th>\n",
       "      <td>How to Blow $700 Million: Al Jazeera America F...</td>\n",
       "      <td>21st Century Wire says Al Jazeera America will...</td>\n",
       "      <td>Middle-east</td>\n",
       "      <td>January 14, 2016</td>\n",
       "      <td>1</td>\n",
       "    </tr>\n",
       "    <tr>\n",
       "      <th>44897</th>\n",
       "      <td>10 U.S. Navy Sailors Held by Iranian Military ...</td>\n",
       "      <td>21st Century Wire says As 21WIRE predicted in ...</td>\n",
       "      <td>Middle-east</td>\n",
       "      <td>January 12, 2016</td>\n",
       "      <td>1</td>\n",
       "    </tr>\n",
       "  </tbody>\n",
       "</table>\n",
       "</div>"
      ],
      "text/plain": [
       "                                                   title  \\\n",
       "44893  McPain: John McCain Furious That Iran Treated ...   \n",
       "44894  JUSTICE? Yahoo Settles E-mail Privacy Class-ac...   \n",
       "44895  Sunnistan: US and Allied ‘Safe Zone’ Plan to T...   \n",
       "44896  How to Blow $700 Million: Al Jazeera America F...   \n",
       "44897  10 U.S. Navy Sailors Held by Iranian Military ...   \n",
       "\n",
       "                                                    text      subject  \\\n",
       "44893  21st Century Wire says As 21WIRE reported earl...  Middle-east   \n",
       "44894  21st Century Wire says It s a familiar theme. ...  Middle-east   \n",
       "44895  Patrick Henningsen  21st Century WireRemember ...  Middle-east   \n",
       "44896  21st Century Wire says Al Jazeera America will...  Middle-east   \n",
       "44897  21st Century Wire says As 21WIRE predicted in ...  Middle-east   \n",
       "\n",
       "                   date  target  \n",
       "44893  January 16, 2016       1  \n",
       "44894  January 16, 2016       1  \n",
       "44895  January 15, 2016       1  \n",
       "44896  January 14, 2016       1  \n",
       "44897  January 12, 2016       1  "
      ]
     },
     "execution_count": 9,
     "metadata": {},
     "output_type": "execute_result"
    }
   ],
   "source": [
    "df.tail()"
   ]
  },
  {
   "cell_type": "markdown",
   "id": "704e62f7-ebfe-4a08-919d-21a7b01e8cdb",
   "metadata": {},
   "source": [
    "- Verifica cadenas vacias"
   ]
  },
  {
   "cell_type": "code",
   "execution_count": 10,
   "id": "616ec96f-a709-41b7-9e85-6262bac0cd74",
   "metadata": {},
   "outputs": [
    {
     "data": {
      "text/plain": [
       "np.int64(0)"
      ]
     },
     "execution_count": 10,
     "metadata": {},
     "output_type": "execute_result"
    }
   ],
   "source": [
    "df['text'].isna().sum()"
   ]
  },
  {
   "cell_type": "code",
   "execution_count": 11,
   "id": "d905c9c8-b1d8-4d19-8308-39876f4eebc1",
   "metadata": {},
   "outputs": [
    {
     "data": {
      "text/plain": [
       "44898"
      ]
     },
     "execution_count": 11,
     "metadata": {},
     "output_type": "execute_result"
    }
   ],
   "source": [
    "len(df)"
   ]
  },
  {
   "cell_type": "markdown",
   "id": "6caf7e1b-c993-4d9a-9b32-c6475f6b688b",
   "metadata": {},
   "source": [
    "- Elimina duplicados"
   ]
  },
  {
   "cell_type": "code",
   "execution_count": 12,
   "id": "81e6483d-e3e6-4902-aeea-f5b2c00a77a5",
   "metadata": {},
   "outputs": [
    {
     "data": {
      "text/plain": [
       "38646"
      ]
     },
     "execution_count": 12,
     "metadata": {},
     "output_type": "execute_result"
    }
   ],
   "source": [
    "df = df.drop_duplicates(subset=['text'])\n",
    "len(df)"
   ]
  },
  {
   "cell_type": "code",
   "execution_count": 13,
   "id": "a9f28371-fc90-442d-ac17-dc2749b4cb9f",
   "metadata": {},
   "outputs": [
    {
     "data": {
      "text/html": [
       "<div>\n",
       "<style scoped>\n",
       "    .dataframe tbody tr th:only-of-type {\n",
       "        vertical-align: middle;\n",
       "    }\n",
       "\n",
       "    .dataframe tbody tr th {\n",
       "        vertical-align: top;\n",
       "    }\n",
       "\n",
       "    .dataframe thead th {\n",
       "        text-align: right;\n",
       "    }\n",
       "</style>\n",
       "<table border=\"1\" class=\"dataframe\">\n",
       "  <thead>\n",
       "    <tr style=\"text-align: right;\">\n",
       "      <th></th>\n",
       "      <th>title</th>\n",
       "      <th>text</th>\n",
       "      <th>subject</th>\n",
       "      <th>date</th>\n",
       "      <th>target</th>\n",
       "    </tr>\n",
       "  </thead>\n",
       "  <tbody>\n",
       "    <tr>\n",
       "      <th>0</th>\n",
       "      <td>As U.S. budget fight looms, Republicans flip t...</td>\n",
       "      <td>WASHINGTON (Reuters) - The head of a conservat...</td>\n",
       "      <td>politicsNews</td>\n",
       "      <td>December 31, 2017</td>\n",
       "      <td>0</td>\n",
       "    </tr>\n",
       "    <tr>\n",
       "      <th>1</th>\n",
       "      <td>U.S. military to accept transgender recruits o...</td>\n",
       "      <td>WASHINGTON (Reuters) - Transgender people will...</td>\n",
       "      <td>politicsNews</td>\n",
       "      <td>December 29, 2017</td>\n",
       "      <td>0</td>\n",
       "    </tr>\n",
       "    <tr>\n",
       "      <th>2</th>\n",
       "      <td>Senior U.S. Republican senator: 'Let Mr. Muell...</td>\n",
       "      <td>WASHINGTON (Reuters) - The special counsel inv...</td>\n",
       "      <td>politicsNews</td>\n",
       "      <td>December 31, 2017</td>\n",
       "      <td>0</td>\n",
       "    </tr>\n",
       "    <tr>\n",
       "      <th>3</th>\n",
       "      <td>FBI Russia probe helped by Australian diplomat...</td>\n",
       "      <td>WASHINGTON (Reuters) - Trump campaign adviser ...</td>\n",
       "      <td>politicsNews</td>\n",
       "      <td>December 30, 2017</td>\n",
       "      <td>0</td>\n",
       "    </tr>\n",
       "    <tr>\n",
       "      <th>4</th>\n",
       "      <td>Trump wants Postal Service to charge 'much mor...</td>\n",
       "      <td>SEATTLE/WASHINGTON (Reuters) - President Donal...</td>\n",
       "      <td>politicsNews</td>\n",
       "      <td>December 29, 2017</td>\n",
       "      <td>0</td>\n",
       "    </tr>\n",
       "    <tr>\n",
       "      <th>5</th>\n",
       "      <td>White House, Congress prepare for talks on spe...</td>\n",
       "      <td>WEST PALM BEACH, Fla./WASHINGTON (Reuters) - T...</td>\n",
       "      <td>politicsNews</td>\n",
       "      <td>December 29, 2017</td>\n",
       "      <td>0</td>\n",
       "    </tr>\n",
       "    <tr>\n",
       "      <th>6</th>\n",
       "      <td>Trump says Russia probe will be fair, but time...</td>\n",
       "      <td>WEST PALM BEACH, Fla (Reuters) - President Don...</td>\n",
       "      <td>politicsNews</td>\n",
       "      <td>December 29, 2017</td>\n",
       "      <td>0</td>\n",
       "    </tr>\n",
       "    <tr>\n",
       "      <th>7</th>\n",
       "      <td>Factbox: Trump on Twitter (Dec 29) - Approval ...</td>\n",
       "      <td>The following statements were posted to the ve...</td>\n",
       "      <td>politicsNews</td>\n",
       "      <td>December 29, 2017</td>\n",
       "      <td>0</td>\n",
       "    </tr>\n",
       "    <tr>\n",
       "      <th>8</th>\n",
       "      <td>Trump on Twitter (Dec 28) - Global Warming</td>\n",
       "      <td>The following statements were posted to the ve...</td>\n",
       "      <td>politicsNews</td>\n",
       "      <td>December 29, 2017</td>\n",
       "      <td>0</td>\n",
       "    </tr>\n",
       "    <tr>\n",
       "      <th>9</th>\n",
       "      <td>Alabama official to certify Senator-elect Jone...</td>\n",
       "      <td>WASHINGTON (Reuters) - Alabama Secretary of St...</td>\n",
       "      <td>politicsNews</td>\n",
       "      <td>December 28, 2017</td>\n",
       "      <td>0</td>\n",
       "    </tr>\n",
       "  </tbody>\n",
       "</table>\n",
       "</div>"
      ],
      "text/plain": [
       "                                               title  \\\n",
       "0  As U.S. budget fight looms, Republicans flip t...   \n",
       "1  U.S. military to accept transgender recruits o...   \n",
       "2  Senior U.S. Republican senator: 'Let Mr. Muell...   \n",
       "3  FBI Russia probe helped by Australian diplomat...   \n",
       "4  Trump wants Postal Service to charge 'much mor...   \n",
       "5  White House, Congress prepare for talks on spe...   \n",
       "6  Trump says Russia probe will be fair, but time...   \n",
       "7  Factbox: Trump on Twitter (Dec 29) - Approval ...   \n",
       "8         Trump on Twitter (Dec 28) - Global Warming   \n",
       "9  Alabama official to certify Senator-elect Jone...   \n",
       "\n",
       "                                                text       subject  \\\n",
       "0  WASHINGTON (Reuters) - The head of a conservat...  politicsNews   \n",
       "1  WASHINGTON (Reuters) - Transgender people will...  politicsNews   \n",
       "2  WASHINGTON (Reuters) - The special counsel inv...  politicsNews   \n",
       "3  WASHINGTON (Reuters) - Trump campaign adviser ...  politicsNews   \n",
       "4  SEATTLE/WASHINGTON (Reuters) - President Donal...  politicsNews   \n",
       "5  WEST PALM BEACH, Fla./WASHINGTON (Reuters) - T...  politicsNews   \n",
       "6  WEST PALM BEACH, Fla (Reuters) - President Don...  politicsNews   \n",
       "7  The following statements were posted to the ve...  politicsNews   \n",
       "8  The following statements were posted to the ve...  politicsNews   \n",
       "9  WASHINGTON (Reuters) - Alabama Secretary of St...  politicsNews   \n",
       "\n",
       "                 date  target  \n",
       "0  December 31, 2017        0  \n",
       "1  December 29, 2017        0  \n",
       "2  December 31, 2017        0  \n",
       "3  December 30, 2017        0  \n",
       "4  December 29, 2017        0  \n",
       "5  December 29, 2017        0  \n",
       "6  December 29, 2017        0  \n",
       "7  December 29, 2017        0  \n",
       "8  December 29, 2017        0  \n",
       "9  December 28, 2017        0  "
      ]
     },
     "execution_count": 13,
     "metadata": {},
     "output_type": "execute_result"
    }
   ],
   "source": [
    "df.head(10)"
   ]
  },
  {
   "cell_type": "code",
   "execution_count": 14,
   "id": "23023c67-9ac0-4097-8e91-6b6f417261cb",
   "metadata": {},
   "outputs": [
    {
     "data": {
      "text/html": [
       "<div>\n",
       "<style scoped>\n",
       "    .dataframe tbody tr th:only-of-type {\n",
       "        vertical-align: middle;\n",
       "    }\n",
       "\n",
       "    .dataframe tbody tr th {\n",
       "        vertical-align: top;\n",
       "    }\n",
       "\n",
       "    .dataframe thead th {\n",
       "        text-align: right;\n",
       "    }\n",
       "</style>\n",
       "<table border=\"1\" class=\"dataframe\">\n",
       "  <thead>\n",
       "    <tr style=\"text-align: right;\">\n",
       "      <th></th>\n",
       "      <th>title</th>\n",
       "      <th>text</th>\n",
       "      <th>subject</th>\n",
       "      <th>date</th>\n",
       "      <th>target</th>\n",
       "    </tr>\n",
       "  </thead>\n",
       "  <tbody>\n",
       "    <tr>\n",
       "      <th>8970</th>\n",
       "      <td>Graphic: Supreme Court roundup</td>\n",
       "      <td></td>\n",
       "      <td>politicsNews</td>\n",
       "      <td>June 16, 2016</td>\n",
       "      <td>0</td>\n",
       "    </tr>\n",
       "    <tr>\n",
       "      <th>33661</th>\n",
       "      <td>TRUMP SLAMS THE GLOBALISTS: “There is no globa...</td>\n",
       "      <td></td>\n",
       "      <td>politics</td>\n",
       "      <td>Dec 1, 2016</td>\n",
       "      <td>1</td>\n",
       "    </tr>\n",
       "    <tr>\n",
       "      <th>35094</th>\n",
       "      <td>MUSLIM INVASION OF AMERICA In Full Swing: Obam...</td>\n",
       "      <td>(Welcome) to America We hope you enjoy our...</td>\n",
       "      <td>politics</td>\n",
       "      <td>Jun 17, 2016</td>\n",
       "      <td>1</td>\n",
       "    </tr>\n",
       "    <tr>\n",
       "      <th>32062</th>\n",
       "      <td>WOW! MAJOR CREDIT CARD COMPANY Still Sponsorin...</td>\n",
       "      <td>Delta Air Lines and Bank of America became ...</td>\n",
       "      <td>politics</td>\n",
       "      <td>Jun 12, 2017</td>\n",
       "      <td>1</td>\n",
       "    </tr>\n",
       "    <tr>\n",
       "      <th>33502</th>\n",
       "      <td>A MUST WATCH! “It’s Time To Show America Is Bi...</td>\n",
       "      <td>#PresidentElectTrumpABSOLUTELY MUST WATCHTod...</td>\n",
       "      <td>politics</td>\n",
       "      <td>Dec 21, 2016</td>\n",
       "      <td>1</td>\n",
       "    </tr>\n",
       "    <tr>\n",
       "      <th>...</th>\n",
       "      <td>...</td>\n",
       "      <td>...</td>\n",
       "      <td>...</td>\n",
       "      <td>...</td>\n",
       "      <td>...</td>\n",
       "    </tr>\n",
       "    <tr>\n",
       "      <th>33499</th>\n",
       "      <td>OHIO ELECTOR TORCHES Anti-Trump Letters He Rec...</td>\n",
       "      <td>pic.twitter.com/KMnLrwB6t1  Richard K. Jones (...</td>\n",
       "      <td>politics</td>\n",
       "      <td>Dec 21, 2016</td>\n",
       "      <td>1</td>\n",
       "    </tr>\n",
       "    <tr>\n",
       "      <th>42714</th>\n",
       "      <td>EMBARRASSING: Obama Explains How He Will ‘Rebu...</td>\n",
       "      <td>re buke r byo ok/ verb 1. express sharp disapp...</td>\n",
       "      <td>left-news</td>\n",
       "      <td>Nov 25, 2015</td>\n",
       "      <td>1</td>\n",
       "    </tr>\n",
       "    <tr>\n",
       "      <th>36178</th>\n",
       "      <td>BLACK LIVES MATTER TERRORISTS May Be Shut Down...</td>\n",
       "      <td>ter ror ist  ter r st/ noun a person who uses ...</td>\n",
       "      <td>politics</td>\n",
       "      <td>Dec 23, 2015</td>\n",
       "      <td>1</td>\n",
       "    </tr>\n",
       "    <tr>\n",
       "      <th>38658</th>\n",
       "      <td>BIG BROTHER: FEDS WANT YOUR DOCTOR TO WARN YOU...</td>\n",
       "      <td>totally out of bounds! This is so wrong and so...</td>\n",
       "      <td>Government News</td>\n",
       "      <td>Jun 26, 2015</td>\n",
       "      <td>1</td>\n",
       "    </tr>\n",
       "    <tr>\n",
       "      <th>34364</th>\n",
       "      <td>GRAPHIC RIOT VIDEOS EXPOSE THUGS ATTACKING ELD...</td>\n",
       "      <td>youngers these days are becoming so moist pic....</td>\n",
       "      <td>politics</td>\n",
       "      <td>Sep 22, 2016</td>\n",
       "      <td>1</td>\n",
       "    </tr>\n",
       "  </tbody>\n",
       "</table>\n",
       "<p>38646 rows × 5 columns</p>\n",
       "</div>"
      ],
      "text/plain": [
       "                                                   title  \\\n",
       "8970                      Graphic: Supreme Court roundup   \n",
       "33661  TRUMP SLAMS THE GLOBALISTS: “There is no globa...   \n",
       "35094  MUSLIM INVASION OF AMERICA In Full Swing: Obam...   \n",
       "32062  WOW! MAJOR CREDIT CARD COMPANY Still Sponsorin...   \n",
       "33502  A MUST WATCH! “It’s Time To Show America Is Bi...   \n",
       "...                                                  ...   \n",
       "33499  OHIO ELECTOR TORCHES Anti-Trump Letters He Rec...   \n",
       "42714  EMBARRASSING: Obama Explains How He Will ‘Rebu...   \n",
       "36178  BLACK LIVES MATTER TERRORISTS May Be Shut Down...   \n",
       "38658  BIG BROTHER: FEDS WANT YOUR DOCTOR TO WARN YOU...   \n",
       "34364  GRAPHIC RIOT VIDEOS EXPOSE THUGS ATTACKING ELD...   \n",
       "\n",
       "                                                    text          subject  \\\n",
       "8970                                                         politicsNews   \n",
       "33661                                                            politics   \n",
       "35094      (Welcome) to America We hope you enjoy our...         politics   \n",
       "32062     Delta Air Lines and Bank of America became ...         politics   \n",
       "33502    #PresidentElectTrumpABSOLUTELY MUST WATCHTod...         politics   \n",
       "...                                                  ...              ...   \n",
       "33499  pic.twitter.com/KMnLrwB6t1  Richard K. Jones (...         politics   \n",
       "42714  re buke r byo ok/ verb 1. express sharp disapp...        left-news   \n",
       "36178  ter ror ist  ter r st/ noun a person who uses ...         politics   \n",
       "38658  totally out of bounds! This is so wrong and so...  Government News   \n",
       "34364  youngers these days are becoming so moist pic....         politics   \n",
       "\n",
       "                 date  target  \n",
       "8970   June 16, 2016        0  \n",
       "33661     Dec 1, 2016       1  \n",
       "35094    Jun 17, 2016       1  \n",
       "32062    Jun 12, 2017       1  \n",
       "33502    Dec 21, 2016       1  \n",
       "...               ...     ...  \n",
       "33499    Dec 21, 2016       1  \n",
       "42714    Nov 25, 2015       1  \n",
       "36178    Dec 23, 2015       1  \n",
       "38658    Jun 26, 2015       1  \n",
       "34364    Sep 22, 2016       1  \n",
       "\n",
       "[38646 rows x 5 columns]"
      ]
     },
     "execution_count": 14,
     "metadata": {},
     "output_type": "execute_result"
    }
   ],
   "source": [
    "df.sort_values(by='text', ascending=True, inplace=False)"
   ]
  },
  {
   "cell_type": "code",
   "execution_count": 15,
   "id": "4ed9afa2-d54a-4701-8af8-3ac7721a8b2a",
   "metadata": {},
   "outputs": [
    {
     "data": {
      "text/plain": [
       "' '"
      ]
     },
     "execution_count": 15,
     "metadata": {},
     "output_type": "execute_result"
    }
   ],
   "source": [
    "df.loc[8970].text"
   ]
  },
  {
   "cell_type": "markdown",
   "id": "4a9386dd-a8d9-4ca9-a08d-11186faf7692",
   "metadata": {},
   "source": [
    "- Elimina cadenas de espacios"
   ]
  },
  {
   "cell_type": "code",
   "execution_count": 16,
   "id": "43c5e1fd-8ba8-4347-8b5c-018bf6e725d7",
   "metadata": {},
   "outputs": [
    {
     "data": {
      "text/html": [
       "<div>\n",
       "<style scoped>\n",
       "    .dataframe tbody tr th:only-of-type {\n",
       "        vertical-align: middle;\n",
       "    }\n",
       "\n",
       "    .dataframe tbody tr th {\n",
       "        vertical-align: top;\n",
       "    }\n",
       "\n",
       "    .dataframe thead th {\n",
       "        text-align: right;\n",
       "    }\n",
       "</style>\n",
       "<table border=\"1\" class=\"dataframe\">\n",
       "  <thead>\n",
       "    <tr style=\"text-align: right;\">\n",
       "      <th></th>\n",
       "      <th>title</th>\n",
       "      <th>text</th>\n",
       "      <th>subject</th>\n",
       "      <th>date</th>\n",
       "      <th>target</th>\n",
       "    </tr>\n",
       "  </thead>\n",
       "  <tbody>\n",
       "    <tr>\n",
       "      <th>0</th>\n",
       "      <td>As U.S. budget fight looms, Republicans flip t...</td>\n",
       "      <td>WASHINGTON (Reuters) - The head of a conservat...</td>\n",
       "      <td>politicsNews</td>\n",
       "      <td>December 31, 2017</td>\n",
       "      <td>0</td>\n",
       "    </tr>\n",
       "    <tr>\n",
       "      <th>1</th>\n",
       "      <td>U.S. military to accept transgender recruits o...</td>\n",
       "      <td>WASHINGTON (Reuters) - Transgender people will...</td>\n",
       "      <td>politicsNews</td>\n",
       "      <td>December 29, 2017</td>\n",
       "      <td>0</td>\n",
       "    </tr>\n",
       "    <tr>\n",
       "      <th>2</th>\n",
       "      <td>Senior U.S. Republican senator: 'Let Mr. Muell...</td>\n",
       "      <td>WASHINGTON (Reuters) - The special counsel inv...</td>\n",
       "      <td>politicsNews</td>\n",
       "      <td>December 31, 2017</td>\n",
       "      <td>0</td>\n",
       "    </tr>\n",
       "    <tr>\n",
       "      <th>3</th>\n",
       "      <td>FBI Russia probe helped by Australian diplomat...</td>\n",
       "      <td>WASHINGTON (Reuters) - Trump campaign adviser ...</td>\n",
       "      <td>politicsNews</td>\n",
       "      <td>December 30, 2017</td>\n",
       "      <td>0</td>\n",
       "    </tr>\n",
       "    <tr>\n",
       "      <th>4</th>\n",
       "      <td>Trump wants Postal Service to charge 'much mor...</td>\n",
       "      <td>SEATTLE/WASHINGTON (Reuters) - President Donal...</td>\n",
       "      <td>politicsNews</td>\n",
       "      <td>December 29, 2017</td>\n",
       "      <td>0</td>\n",
       "    </tr>\n",
       "    <tr>\n",
       "      <th>...</th>\n",
       "      <td>...</td>\n",
       "      <td>...</td>\n",
       "      <td>...</td>\n",
       "      <td>...</td>\n",
       "      <td>...</td>\n",
       "    </tr>\n",
       "    <tr>\n",
       "      <th>44115</th>\n",
       "      <td>The White House and The Theatrics of ‘Gun Cont...</td>\n",
       "      <td>21st Century Wire says All the world s a stage...</td>\n",
       "      <td>US_News</td>\n",
       "      <td>January 7, 2016</td>\n",
       "      <td>1</td>\n",
       "    </tr>\n",
       "    <tr>\n",
       "      <th>44116</th>\n",
       "      <td>Activists or Terrorists? How Media Controls an...</td>\n",
       "      <td>Randy Johnson 21st Century WireThe majority ...</td>\n",
       "      <td>US_News</td>\n",
       "      <td>January 7, 2016</td>\n",
       "      <td>1</td>\n",
       "    </tr>\n",
       "    <tr>\n",
       "      <th>44117</th>\n",
       "      <td>BOILER ROOM – No Surrender, No Retreat, Heads ...</td>\n",
       "      <td>Tune in to the Alternate Current Radio Network...</td>\n",
       "      <td>US_News</td>\n",
       "      <td>January 6, 2016</td>\n",
       "      <td>1</td>\n",
       "    </tr>\n",
       "    <tr>\n",
       "      <th>44118</th>\n",
       "      <td>Federal Showdown Looms in Oregon After BLM Abu...</td>\n",
       "      <td>21st Century Wire says A new front has just op...</td>\n",
       "      <td>US_News</td>\n",
       "      <td>January 4, 2016</td>\n",
       "      <td>1</td>\n",
       "    </tr>\n",
       "    <tr>\n",
       "      <th>44119</th>\n",
       "      <td>A Troubled King: Chicago’s Rahm Emanuel Desper...</td>\n",
       "      <td>21st Century Wire says It s not that far away....</td>\n",
       "      <td>US_News</td>\n",
       "      <td>January 2, 2016</td>\n",
       "      <td>1</td>\n",
       "    </tr>\n",
       "  </tbody>\n",
       "</table>\n",
       "<p>38644 rows × 5 columns</p>\n",
       "</div>"
      ],
      "text/plain": [
       "                                                   title  \\\n",
       "0      As U.S. budget fight looms, Republicans flip t...   \n",
       "1      U.S. military to accept transgender recruits o...   \n",
       "2      Senior U.S. Republican senator: 'Let Mr. Muell...   \n",
       "3      FBI Russia probe helped by Australian diplomat...   \n",
       "4      Trump wants Postal Service to charge 'much mor...   \n",
       "...                                                  ...   \n",
       "44115  The White House and The Theatrics of ‘Gun Cont...   \n",
       "44116  Activists or Terrorists? How Media Controls an...   \n",
       "44117  BOILER ROOM – No Surrender, No Retreat, Heads ...   \n",
       "44118  Federal Showdown Looms in Oregon After BLM Abu...   \n",
       "44119  A Troubled King: Chicago’s Rahm Emanuel Desper...   \n",
       "\n",
       "                                                    text       subject  \\\n",
       "0      WASHINGTON (Reuters) - The head of a conservat...  politicsNews   \n",
       "1      WASHINGTON (Reuters) - Transgender people will...  politicsNews   \n",
       "2      WASHINGTON (Reuters) - The special counsel inv...  politicsNews   \n",
       "3      WASHINGTON (Reuters) - Trump campaign adviser ...  politicsNews   \n",
       "4      SEATTLE/WASHINGTON (Reuters) - President Donal...  politicsNews   \n",
       "...                                                  ...           ...   \n",
       "44115  21st Century Wire says All the world s a stage...       US_News   \n",
       "44116    Randy Johnson 21st Century WireThe majority ...       US_News   \n",
       "44117  Tune in to the Alternate Current Radio Network...       US_News   \n",
       "44118  21st Century Wire says A new front has just op...       US_News   \n",
       "44119  21st Century Wire says It s not that far away....       US_News   \n",
       "\n",
       "                     date  target  \n",
       "0      December 31, 2017        0  \n",
       "1      December 29, 2017        0  \n",
       "2      December 31, 2017        0  \n",
       "3      December 30, 2017        0  \n",
       "4      December 29, 2017        0  \n",
       "...                   ...     ...  \n",
       "44115     January 7, 2016       1  \n",
       "44116     January 7, 2016       1  \n",
       "44117     January 6, 2016       1  \n",
       "44118     January 4, 2016       1  \n",
       "44119     January 2, 2016       1  \n",
       "\n",
       "[38644 rows x 5 columns]"
      ]
     },
     "execution_count": 16,
     "metadata": {},
     "output_type": "execute_result"
    }
   ],
   "source": [
    "df = df[df['text'].str.strip() != '']\n",
    "df"
   ]
  },
  {
   "cell_type": "code",
   "execution_count": 17,
   "id": "17a77ff2-5799-488c-8ee7-3ae3a32395b9",
   "metadata": {},
   "outputs": [],
   "source": [
    "df = df.reset_index(drop=True)"
   ]
  },
  {
   "cell_type": "code",
   "execution_count": 18,
   "id": "0e7f3959-32ca-49ad-abca-ef3e1fc9c080",
   "metadata": {},
   "outputs": [
    {
     "data": {
      "text/plain": [
       "38644"
      ]
     },
     "execution_count": 18,
     "metadata": {},
     "output_type": "execute_result"
    }
   ],
   "source": [
    "len(df)"
   ]
  },
  {
   "cell_type": "markdown",
   "id": "6ab0afbd-c0a7-4727-b138-e7b4ab27e384",
   "metadata": {},
   "source": [
    "- Crea nueva columna añadiendo el título al texto"
   ]
  },
  {
   "cell_type": "code",
   "execution_count": 19,
   "id": "dca02c1a-7197-43dd-b97b-71556c1a1491",
   "metadata": {},
   "outputs": [],
   "source": [
    "df['clean_text'] = df['title']+ df['text']"
   ]
  },
  {
   "cell_type": "code",
   "execution_count": 20,
   "id": "1f664158-63c6-4739-9723-052bbe65461f",
   "metadata": {},
   "outputs": [
    {
     "data": {
      "text/html": [
       "<div>\n",
       "<style scoped>\n",
       "    .dataframe tbody tr th:only-of-type {\n",
       "        vertical-align: middle;\n",
       "    }\n",
       "\n",
       "    .dataframe tbody tr th {\n",
       "        vertical-align: top;\n",
       "    }\n",
       "\n",
       "    .dataframe thead th {\n",
       "        text-align: right;\n",
       "    }\n",
       "</style>\n",
       "<table border=\"1\" class=\"dataframe\">\n",
       "  <thead>\n",
       "    <tr style=\"text-align: right;\">\n",
       "      <th></th>\n",
       "      <th>title</th>\n",
       "      <th>text</th>\n",
       "      <th>subject</th>\n",
       "      <th>date</th>\n",
       "      <th>target</th>\n",
       "      <th>clean_text</th>\n",
       "    </tr>\n",
       "  </thead>\n",
       "  <tbody>\n",
       "    <tr>\n",
       "      <th>0</th>\n",
       "      <td>As U.S. budget fight looms, Republicans flip t...</td>\n",
       "      <td>WASHINGTON (Reuters) - The head of a conservat...</td>\n",
       "      <td>politicsNews</td>\n",
       "      <td>December 31, 2017</td>\n",
       "      <td>0</td>\n",
       "      <td>As U.S. budget fight looms, Republicans flip t...</td>\n",
       "    </tr>\n",
       "    <tr>\n",
       "      <th>1</th>\n",
       "      <td>U.S. military to accept transgender recruits o...</td>\n",
       "      <td>WASHINGTON (Reuters) - Transgender people will...</td>\n",
       "      <td>politicsNews</td>\n",
       "      <td>December 29, 2017</td>\n",
       "      <td>0</td>\n",
       "      <td>U.S. military to accept transgender recruits o...</td>\n",
       "    </tr>\n",
       "    <tr>\n",
       "      <th>2</th>\n",
       "      <td>Senior U.S. Republican senator: 'Let Mr. Muell...</td>\n",
       "      <td>WASHINGTON (Reuters) - The special counsel inv...</td>\n",
       "      <td>politicsNews</td>\n",
       "      <td>December 31, 2017</td>\n",
       "      <td>0</td>\n",
       "      <td>Senior U.S. Republican senator: 'Let Mr. Muell...</td>\n",
       "    </tr>\n",
       "    <tr>\n",
       "      <th>3</th>\n",
       "      <td>FBI Russia probe helped by Australian diplomat...</td>\n",
       "      <td>WASHINGTON (Reuters) - Trump campaign adviser ...</td>\n",
       "      <td>politicsNews</td>\n",
       "      <td>December 30, 2017</td>\n",
       "      <td>0</td>\n",
       "      <td>FBI Russia probe helped by Australian diplomat...</td>\n",
       "    </tr>\n",
       "    <tr>\n",
       "      <th>4</th>\n",
       "      <td>Trump wants Postal Service to charge 'much mor...</td>\n",
       "      <td>SEATTLE/WASHINGTON (Reuters) - President Donal...</td>\n",
       "      <td>politicsNews</td>\n",
       "      <td>December 29, 2017</td>\n",
       "      <td>0</td>\n",
       "      <td>Trump wants Postal Service to charge 'much mor...</td>\n",
       "    </tr>\n",
       "    <tr>\n",
       "      <th>...</th>\n",
       "      <td>...</td>\n",
       "      <td>...</td>\n",
       "      <td>...</td>\n",
       "      <td>...</td>\n",
       "      <td>...</td>\n",
       "      <td>...</td>\n",
       "    </tr>\n",
       "    <tr>\n",
       "      <th>38639</th>\n",
       "      <td>The White House and The Theatrics of ‘Gun Cont...</td>\n",
       "      <td>21st Century Wire says All the world s a stage...</td>\n",
       "      <td>US_News</td>\n",
       "      <td>January 7, 2016</td>\n",
       "      <td>1</td>\n",
       "      <td>The White House and The Theatrics of ‘Gun Cont...</td>\n",
       "    </tr>\n",
       "    <tr>\n",
       "      <th>38640</th>\n",
       "      <td>Activists or Terrorists? How Media Controls an...</td>\n",
       "      <td>Randy Johnson 21st Century WireThe majority ...</td>\n",
       "      <td>US_News</td>\n",
       "      <td>January 7, 2016</td>\n",
       "      <td>1</td>\n",
       "      <td>Activists or Terrorists? How Media Controls an...</td>\n",
       "    </tr>\n",
       "    <tr>\n",
       "      <th>38641</th>\n",
       "      <td>BOILER ROOM – No Surrender, No Retreat, Heads ...</td>\n",
       "      <td>Tune in to the Alternate Current Radio Network...</td>\n",
       "      <td>US_News</td>\n",
       "      <td>January 6, 2016</td>\n",
       "      <td>1</td>\n",
       "      <td>BOILER ROOM – No Surrender, No Retreat, Heads ...</td>\n",
       "    </tr>\n",
       "    <tr>\n",
       "      <th>38642</th>\n",
       "      <td>Federal Showdown Looms in Oregon After BLM Abu...</td>\n",
       "      <td>21st Century Wire says A new front has just op...</td>\n",
       "      <td>US_News</td>\n",
       "      <td>January 4, 2016</td>\n",
       "      <td>1</td>\n",
       "      <td>Federal Showdown Looms in Oregon After BLM Abu...</td>\n",
       "    </tr>\n",
       "    <tr>\n",
       "      <th>38643</th>\n",
       "      <td>A Troubled King: Chicago’s Rahm Emanuel Desper...</td>\n",
       "      <td>21st Century Wire says It s not that far away....</td>\n",
       "      <td>US_News</td>\n",
       "      <td>January 2, 2016</td>\n",
       "      <td>1</td>\n",
       "      <td>A Troubled King: Chicago’s Rahm Emanuel Desper...</td>\n",
       "    </tr>\n",
       "  </tbody>\n",
       "</table>\n",
       "<p>38644 rows × 6 columns</p>\n",
       "</div>"
      ],
      "text/plain": [
       "                                                   title  \\\n",
       "0      As U.S. budget fight looms, Republicans flip t...   \n",
       "1      U.S. military to accept transgender recruits o...   \n",
       "2      Senior U.S. Republican senator: 'Let Mr. Muell...   \n",
       "3      FBI Russia probe helped by Australian diplomat...   \n",
       "4      Trump wants Postal Service to charge 'much mor...   \n",
       "...                                                  ...   \n",
       "38639  The White House and The Theatrics of ‘Gun Cont...   \n",
       "38640  Activists or Terrorists? How Media Controls an...   \n",
       "38641  BOILER ROOM – No Surrender, No Retreat, Heads ...   \n",
       "38642  Federal Showdown Looms in Oregon After BLM Abu...   \n",
       "38643  A Troubled King: Chicago’s Rahm Emanuel Desper...   \n",
       "\n",
       "                                                    text       subject  \\\n",
       "0      WASHINGTON (Reuters) - The head of a conservat...  politicsNews   \n",
       "1      WASHINGTON (Reuters) - Transgender people will...  politicsNews   \n",
       "2      WASHINGTON (Reuters) - The special counsel inv...  politicsNews   \n",
       "3      WASHINGTON (Reuters) - Trump campaign adviser ...  politicsNews   \n",
       "4      SEATTLE/WASHINGTON (Reuters) - President Donal...  politicsNews   \n",
       "...                                                  ...           ...   \n",
       "38639  21st Century Wire says All the world s a stage...       US_News   \n",
       "38640    Randy Johnson 21st Century WireThe majority ...       US_News   \n",
       "38641  Tune in to the Alternate Current Radio Network...       US_News   \n",
       "38642  21st Century Wire says A new front has just op...       US_News   \n",
       "38643  21st Century Wire says It s not that far away....       US_News   \n",
       "\n",
       "                     date  target  \\\n",
       "0      December 31, 2017        0   \n",
       "1      December 29, 2017        0   \n",
       "2      December 31, 2017        0   \n",
       "3      December 30, 2017        0   \n",
       "4      December 29, 2017        0   \n",
       "...                   ...     ...   \n",
       "38639     January 7, 2016       1   \n",
       "38640     January 7, 2016       1   \n",
       "38641     January 6, 2016       1   \n",
       "38642     January 4, 2016       1   \n",
       "38643     January 2, 2016       1   \n",
       "\n",
       "                                              clean_text  \n",
       "0      As U.S. budget fight looms, Republicans flip t...  \n",
       "1      U.S. military to accept transgender recruits o...  \n",
       "2      Senior U.S. Republican senator: 'Let Mr. Muell...  \n",
       "3      FBI Russia probe helped by Australian diplomat...  \n",
       "4      Trump wants Postal Service to charge 'much mor...  \n",
       "...                                                  ...  \n",
       "38639  The White House and The Theatrics of ‘Gun Cont...  \n",
       "38640  Activists or Terrorists? How Media Controls an...  \n",
       "38641  BOILER ROOM – No Surrender, No Retreat, Heads ...  \n",
       "38642  Federal Showdown Looms in Oregon After BLM Abu...  \n",
       "38643  A Troubled King: Chicago’s Rahm Emanuel Desper...  \n",
       "\n",
       "[38644 rows x 6 columns]"
      ]
     },
     "execution_count": 20,
     "metadata": {},
     "output_type": "execute_result"
    }
   ],
   "source": [
    "df"
   ]
  },
  {
   "cell_type": "markdown",
   "id": "3eb4b12e-9ea6-492f-906c-e2a205ca0061",
   "metadata": {},
   "source": [
    "- Elimina puntuación y convierte a minúsculas\n",
    "- Se utiliza el método __str.translate()__ para eliminar todos los caracteres de puntuación mediante una tabla de traducción creada con el método __str.maketrans__. La constante string.punctuation contiene todos los caracteres de puntuación ASCII, que se eliminan de los valores en la columna"
   ]
  },
  {
   "cell_type": "code",
   "execution_count": 21,
   "id": "16ff03a8-76aa-4786-a794-e6744a45bc47",
   "metadata": {},
   "outputs": [],
   "source": [
    "import string"
   ]
  },
  {
   "cell_type": "code",
   "execution_count": 22,
   "id": "6a5aa290-98ec-4e71-a4e4-69efc463f8ec",
   "metadata": {},
   "outputs": [
    {
     "data": {
      "text/html": [
       "<div>\n",
       "<style scoped>\n",
       "    .dataframe tbody tr th:only-of-type {\n",
       "        vertical-align: middle;\n",
       "    }\n",
       "\n",
       "    .dataframe tbody tr th {\n",
       "        vertical-align: top;\n",
       "    }\n",
       "\n",
       "    .dataframe thead th {\n",
       "        text-align: right;\n",
       "    }\n",
       "</style>\n",
       "<table border=\"1\" class=\"dataframe\">\n",
       "  <thead>\n",
       "    <tr style=\"text-align: right;\">\n",
       "      <th></th>\n",
       "      <th>title</th>\n",
       "      <th>text</th>\n",
       "      <th>subject</th>\n",
       "      <th>date</th>\n",
       "      <th>target</th>\n",
       "      <th>clean_text</th>\n",
       "    </tr>\n",
       "  </thead>\n",
       "  <tbody>\n",
       "    <tr>\n",
       "      <th>0</th>\n",
       "      <td>As U.S. budget fight looms, Republicans flip t...</td>\n",
       "      <td>WASHINGTON (Reuters) - The head of a conservat...</td>\n",
       "      <td>politicsNews</td>\n",
       "      <td>December 31, 2017</td>\n",
       "      <td>0</td>\n",
       "      <td>as us budget fight looms republicans flip thei...</td>\n",
       "    </tr>\n",
       "    <tr>\n",
       "      <th>1</th>\n",
       "      <td>U.S. military to accept transgender recruits o...</td>\n",
       "      <td>WASHINGTON (Reuters) - Transgender people will...</td>\n",
       "      <td>politicsNews</td>\n",
       "      <td>December 29, 2017</td>\n",
       "      <td>0</td>\n",
       "      <td>us military to accept transgender recruits on ...</td>\n",
       "    </tr>\n",
       "    <tr>\n",
       "      <th>2</th>\n",
       "      <td>Senior U.S. Republican senator: 'Let Mr. Muell...</td>\n",
       "      <td>WASHINGTON (Reuters) - The special counsel inv...</td>\n",
       "      <td>politicsNews</td>\n",
       "      <td>December 31, 2017</td>\n",
       "      <td>0</td>\n",
       "      <td>senior us republican senator let mr mueller do...</td>\n",
       "    </tr>\n",
       "    <tr>\n",
       "      <th>3</th>\n",
       "      <td>FBI Russia probe helped by Australian diplomat...</td>\n",
       "      <td>WASHINGTON (Reuters) - Trump campaign adviser ...</td>\n",
       "      <td>politicsNews</td>\n",
       "      <td>December 30, 2017</td>\n",
       "      <td>0</td>\n",
       "      <td>fbi russia probe helped by australian diplomat...</td>\n",
       "    </tr>\n",
       "    <tr>\n",
       "      <th>4</th>\n",
       "      <td>Trump wants Postal Service to charge 'much mor...</td>\n",
       "      <td>SEATTLE/WASHINGTON (Reuters) - President Donal...</td>\n",
       "      <td>politicsNews</td>\n",
       "      <td>December 29, 2017</td>\n",
       "      <td>0</td>\n",
       "      <td>trump wants postal service to charge much more...</td>\n",
       "    </tr>\n",
       "  </tbody>\n",
       "</table>\n",
       "</div>"
      ],
      "text/plain": [
       "                                               title  \\\n",
       "0  As U.S. budget fight looms, Republicans flip t...   \n",
       "1  U.S. military to accept transgender recruits o...   \n",
       "2  Senior U.S. Republican senator: 'Let Mr. Muell...   \n",
       "3  FBI Russia probe helped by Australian diplomat...   \n",
       "4  Trump wants Postal Service to charge 'much mor...   \n",
       "\n",
       "                                                text       subject  \\\n",
       "0  WASHINGTON (Reuters) - The head of a conservat...  politicsNews   \n",
       "1  WASHINGTON (Reuters) - Transgender people will...  politicsNews   \n",
       "2  WASHINGTON (Reuters) - The special counsel inv...  politicsNews   \n",
       "3  WASHINGTON (Reuters) - Trump campaign adviser ...  politicsNews   \n",
       "4  SEATTLE/WASHINGTON (Reuters) - President Donal...  politicsNews   \n",
       "\n",
       "                 date  target  \\\n",
       "0  December 31, 2017        0   \n",
       "1  December 29, 2017        0   \n",
       "2  December 31, 2017        0   \n",
       "3  December 30, 2017        0   \n",
       "4  December 29, 2017        0   \n",
       "\n",
       "                                          clean_text  \n",
       "0  as us budget fight looms republicans flip thei...  \n",
       "1  us military to accept transgender recruits on ...  \n",
       "2  senior us republican senator let mr mueller do...  \n",
       "3  fbi russia probe helped by australian diplomat...  \n",
       "4  trump wants postal service to charge much more...  "
      ]
     },
     "execution_count": 22,
     "metadata": {},
     "output_type": "execute_result"
    }
   ],
   "source": [
    "df['clean_text'] = df['clean_text'].str.lower().str.translate(str.maketrans('', '', string.punctuation))\n",
    "df.head()"
   ]
  },
  {
   "cell_type": "markdown",
   "id": "a651ba97-16f3-47fd-9798-5353586f346d",
   "metadata": {},
   "source": [
    "## Entrenamiento"
   ]
  },
  {
   "cell_type": "markdown",
   "id": "2ec6e2c4-3068-4465-8aec-b3296aa9dbe3",
   "metadata": {},
   "source": [
    "    Accuracy:\n",
    "\n",
    "$$\\text{Accuracy} = \\frac{TP + TN}{TP + TN + FP + FN}$$\n",
    "\n",
    "    Precision:\n",
    "\n",
    "$$\\text{Precision} = \\frac{TP}{TP + FP}$$\n",
    "\n",
    "    Recall:\n",
    "\n",
    "$$\\text{Recall} = \\frac{TP}{TP + FN}$$\n",
    "\n",
    "    F1 score:\n",
    "\n",
    "$$\\text{F1 score} = 2 \\cdot \\frac{\\text{Precision} \\cdot \\text{Recall}}{\\text{Precision} + \\text{Recall}}$$\n"
   ]
  },
  {
   "cell_type": "code",
   "execution_count": 23,
   "id": "5b021552-fe16-4ce9-b3f4-7ec478c81ec2",
   "metadata": {},
   "outputs": [
    {
     "data": {
      "text/plain": [
       "target\n",
       "0    21191\n",
       "1    17453\n",
       "Name: count, dtype: int64"
      ]
     },
     "execution_count": 23,
     "metadata": {},
     "output_type": "execute_result"
    }
   ],
   "source": [
    "df['target'].value_counts()"
   ]
  },
  {
   "cell_type": "code",
   "execution_count": 24,
   "id": "a0182532-66f2-4482-9630-bda5d1470d76",
   "metadata": {},
   "outputs": [],
   "source": [
    "from sklearn.feature_extraction.text import CountVectorizer\n",
    "from sklearn.model_selection import train_test_split\n",
    "from sklearn.naive_bayes import MultinomialNB\n",
    "from sklearn.metrics import classification_report\n",
    "\n",
    "X = df['clean_text'].values\n",
    "y = df['target'].values\n",
    "\n",
    "X_train, X_test, y_train, y_test = train_test_split(X, y, test_size = 0.25, random_state = 123)\n",
    "vector = CountVectorizer(stop_words = 'english')\n",
    "\n",
    "X_train_bow = vector.fit_transform(X_train)\n",
    "X_test_bow = vector.transform(X_test)"
   ]
  },
  {
   "cell_type": "code",
   "execution_count": 25,
   "id": "52401e10-ade1-4f2a-9de7-036b7ee85556",
   "metadata": {},
   "outputs": [
    {
     "data": {
      "text/plain": [
       "((28983, 203103), (9661, 203103))"
      ]
     },
     "execution_count": 25,
     "metadata": {},
     "output_type": "execute_result"
    }
   ],
   "source": [
    "X_train_bow.shape, X_test_bow.shape"
   ]
  },
  {
   "cell_type": "code",
   "execution_count": 26,
   "id": "087b87b7",
   "metadata": {},
   "outputs": [],
   "source": [
    "bayes_pred = MultinomialNB(alpha=0.001)\n",
    "bayes_pred.fit(X_train_bow, y_train)\n",
    "\n",
    "predictions = bayes_pred.predict(X_test_bow)"
   ]
  },
  {
   "cell_type": "code",
   "execution_count": 27,
   "id": "c0ed788b",
   "metadata": {},
   "outputs": [],
   "source": [
    "\n",
    "predictions = bayes_pred.predict(X_test_bow)"
   ]
  },
  {
   "cell_type": "code",
   "execution_count": 28,
   "id": "c4cca58d-d82a-430f-9f09-e5f45c69b262",
   "metadata": {},
   "outputs": [
    {
     "name": "stdout",
     "output_type": "stream",
     "text": [
      "              precision    recall  f1-score   support\n",
      "\n",
      "           0       0.97      0.96      0.97      5216\n",
      "           1       0.96      0.97      0.96      4445\n",
      "\n",
      "    accuracy                           0.96      9661\n",
      "   macro avg       0.96      0.96      0.96      9661\n",
      "weighted avg       0.96      0.96      0.96      9661\n",
      "\n"
     ]
    }
   ],
   "source": [
    "print(classification_report(y_test, predictions))"
   ]
  },
  {
   "cell_type": "code",
   "execution_count": 29,
   "id": "7a601d81-5ee8-4975-8e19-9cb7b908c09e",
   "metadata": {},
   "outputs": [],
   "source": [
    "import matplotlib.pyplot as plt\n",
    "import numpy as np\n",
    "from sklearn.metrics import confusion_matrix\n",
    "from sklearn.metrics import ConfusionMatrixDisplay"
   ]
  },
  {
   "cell_type": "code",
   "execution_count": 30,
   "id": "93e6414f-dfa4-4801-8cf1-073a83de7e4d",
   "metadata": {},
   "outputs": [
    {
     "data": {
      "image/png": "[encoded data removed]",
      "text/plain": [
       "<Figure size 640x480 with 2 Axes>"
      ]
     },
     "metadata": {},
     "output_type": "display_data"
    }
   ],
   "source": [
    "cm = confusion_matrix(y_test, predictions)\n",
    "\n",
    "# plot the confusion matrix\n",
    "disp = ConfusionMatrixDisplay(cm, display_labels=np.unique(y_test))\n",
    "disp.plot()\n",
    "plt.show()"
   ]
  },
  {
   "cell_type": "markdown",
   "id": "29855155-31af-4ac4-b679-61f525d8d673",
   "metadata": {},
   "source": [
    "## Ejercicio\n",
    "- Entrenar el modelo:\n",
    "    - Utilizando stemming \n",
    "    - Utilizando lematización \n",
    "    - Incluyendo stopwords  \n",
    "- Obtener para cada modelo accuracy, precision, recall, f1-score y matriz de confusión."
   ]
  },
  {
   "cell_type": "markdown",
   "id": "d401e42f",
   "metadata": {},
   "source": [
    "## Arbol"
   ]
  },
  {
   "cell_type": "markdown",
   "id": "80e10e85",
   "metadata": {},
   "source": [
    "Árbol con entropía"
   ]
  },
  {
   "cell_type": "code",
   "execution_count": 31,
   "id": "37b3579a",
   "metadata": {},
   "outputs": [
    {
     "name": "stdout",
     "output_type": "stream",
     "text": [
      "Tiempo de entrenamiento de árbol con entropía es: 20.1255 segundos\n"
     ]
    }
   ],
   "source": [
    "from sklearn.tree import DecisionTreeClassifier\n",
    "from sklearn import tree\n",
    "import time\n",
    "\n",
    "start = time.time()\n",
    "clf = DecisionTreeClassifier(criterion='entropy')\n",
    "clf.fit(X_train_bow, y_train)\n",
    "training_time = time.time() - start\n",
    "print(f\"Tiempo de entrenamiento de árbol con entropía es: {training_time:.4f} segundos\")\n",
    "\n",
    "predictions = clf.predict(X_test_bow)"
   ]
  },
  {
   "cell_type": "code",
   "execution_count": 32,
   "id": "926f5c10",
   "metadata": {},
   "outputs": [
    {
     "data": {
      "image/png": "[encoded data removed]",
      "text/plain": [
       "<Figure size 640x480 with 2 Axes>"
      ]
     },
     "metadata": {},
     "output_type": "display_data"
    }
   ],
   "source": [
    "cm = confusion_matrix(y_test, predictions)\n",
    "\n",
    "# plot the confusion matrix\n",
    "disp = ConfusionMatrixDisplay(cm, display_labels=np.unique(y_test))\n",
    "disp.plot()\n",
    "plt.show()"
   ]
  },
  {
   "cell_type": "markdown",
   "id": "78bd0063",
   "metadata": {},
   "source": [
    "Árbol con gini"
   ]
  },
  {
   "cell_type": "code",
   "execution_count": 33,
   "id": "b8c47b2c",
   "metadata": {},
   "outputs": [
    {
     "name": "stdout",
     "output_type": "stream",
     "text": [
      "Tiempo de entrenamiento de Árbol con gini es: 37.6739 segundos\n"
     ]
    }
   ],
   "source": [
    "from sklearn.tree import DecisionTreeClassifier\n",
    "from sklearn import tree\n",
    "import time\n",
    "\n",
    "start = time.time()\n",
    "clf = DecisionTreeClassifier(criterion='gini')\n",
    "clf.fit(X_train_bow, y_train)\n",
    "training_time = time.time() - start\n",
    "print(f\"Tiempo de entrenamiento de Árbol con gini es: {training_time:.4f} segundos\")\n",
    "\n",
    "predictions = clf.predict(X_test_bow)"
   ]
  },
  {
   "cell_type": "code",
   "execution_count": 34,
   "id": "8a813b8e",
   "metadata": {},
   "outputs": [
    {
     "data": {
      "image/png": "[encoded data removed]",
      "text/plain": [
       "<Figure size 640x480 with 2 Axes>"
      ]
     },
     "metadata": {},
     "output_type": "display_data"
    }
   ],
   "source": [
    "cm = confusion_matrix(y_test, predictions)\n",
    "\n",
    "# plot the confusion matrix\n",
    "disp = ConfusionMatrixDisplay(cm, display_labels=np.unique(y_test))\n",
    "disp.plot()\n",
    "plt.show()"
   ]
  },
  {
   "cell_type": "markdown",
   "id": "1993eb51",
   "metadata": {},
   "source": [
    "## SVM"
   ]
  },
  {
   "cell_type": "code",
   "execution_count": 35,
   "id": "7df9cdb9",
   "metadata": {},
   "outputs": [
    {
     "name": "stdout",
     "output_type": "stream",
     "text": [
      "Tiempo de entrenamiento de SVM es: 240.5017 segundos\n"
     ]
    }
   ],
   "source": [
    "from sklearn import svm\n",
    "\n",
    "start = time.time()\n",
    "clf = svm.SVC(kernel='linear')\n",
    "clf.fit(X_train_bow, y_train)\n",
    "training_time = time.time() - start\n",
    "print(f\"Tiempo de entrenamiento de SVM es: {training_time:.4f} segundos\")\n",
    "\n",
    "predictions = clf.predict(X_test_bow)"
   ]
  },
  {
   "cell_type": "code",
   "execution_count": 36,
   "id": "a255a28e",
   "metadata": {},
   "outputs": [
    {
     "data": {
      "image/png": "[encoded data removed]",
      "text/plain": [
       "<Figure size 640x480 with 2 Axes>"
      ]
     },
     "metadata": {},
     "output_type": "display_data"
    }
   ],
   "source": [
    "cm = confusion_matrix(y_test, predictions)\n",
    "\n",
    "# plot the confusion matrix\n",
    "disp = ConfusionMatrixDisplay(cm, display_labels=np.unique(y_test))\n",
    "disp.plot()\n",
    "plt.show()"
   ]
  },
  {
   "cell_type": "markdown",
   "id": "da5108fe",
   "metadata": {},
   "source": [
    "## Regresion Logistica"
   ]
  },
  {
   "cell_type": "code",
   "execution_count": 37,
   "id": "fa617567",
   "metadata": {},
   "outputs": [
    {
     "name": "stdout",
     "output_type": "stream",
     "text": [
      "Tiempo de entrenamiento de regresión es: 3.1714 segundos\n"
     ]
    }
   ],
   "source": [
    "import numpy as np\n",
    "from sklearn.linear_model import LogisticRegression\n",
    "from sklearn.metrics import confusion_matrix, ConfusionMatrixDisplay\n",
    "import matplotlib.pyplot as plt\n",
    "import time\n",
    "\n",
    "\n",
    "start = time.time()\n",
    "\n",
    "clf = LogisticRegression().fit(X_train_bow, y_train)\n",
    "\n",
    "training_time = time.time() - start\n",
    "print(f\"Tiempo de entrenamiento de regresión es: {training_time:.4f} segundos\")\n",
    "\n",
    "predictions = clf.predict(X_test_bow)"
   ]
  },
  {
   "cell_type": "code",
   "execution_count": 38,
   "id": "5585c7ee",
   "metadata": {},
   "outputs": [
    {
     "data": {
      "image/png": "[encoded data removed]",
      "text/plain": [
       "<Figure size 640x480 with 2 Axes>"
      ]
     },
     "metadata": {},
     "output_type": "display_data"
    }
   ],
   "source": [
    "# Calcula la matriz de confusión\n",
    "cm = confusion_matrix(y_test, predictions)\n",
    "\n",
    "# Muestra la matriz de confusión\n",
    "disp = ConfusionMatrixDisplay(cm, display_labels=np.unique(y_test))\n",
    "disp.plot()\n",
    "plt.show()\n"
   ]
  },
  {
   "cell_type": "markdown",
   "id": "8d9d11d4",
   "metadata": {},
   "source": [
    "# Conclusión\n",
    "\n",
    "Al implementar los diferentes algoritmos utilizando el mismo dataset, observamos que los tiempos de entrenamiento varían según la complejidad del algoritmo.\n",
    "\n",
    "El más rápido fue el Naive Bayes, aunque sus resultados fueron los menos precisos, entregando un mayor número de falsos positivos y negativos en la matriz de confusión.\n",
    "\n",
    "El algoritmo que mejor desempeño tuvo fue la regresión logística, la cual, además, se ejecutó en un tiempo relativamente corto de 3.17 segundos.\n",
    "\n",
    "A partir de estos resultados y lo aprendido en clase, podemos concluir que, aunque la regresión logística puede ser compleja de entender, es un método que ofrece excelentes resultados y es bastante eficiente en cuanto a tiempo de ejecución. Además, es importante considerar el tipo de problema a resolver al elegir un método. En este caso, la regresión logística es adecuada porque permite clasificar dos clases, pero si fuera necesario clasificar más clases, sería recomendable evaluar otros métodos."
   ]
  }
 ],
 "metadata": {
  "kernelspec": {
   "display_name": "Python 3 (ipykernel)",
   "language": "python",
   "name": "python3"
  },
  "language_info": {
   "codemirror_mode": {
    "name": "ipython",
    "version": 3
   },
   "file_extension": ".py",
   "mimetype": "text/x-python",
   "name": "python",
   "nbconvert_exporter": "python",
   "pygments_lexer": "ipython3",
   "version": "3.12.5"
  }
 },
 "nbformat": 4,
 "nbformat_minor": 5
}
