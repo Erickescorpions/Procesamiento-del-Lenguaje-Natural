{
 "cells": [
  {
   "cell_type": "markdown",
   "id": "2dac81c7",
   "metadata": {},
   "source": [
    "# Programa 1\n",
    "\n",
    "- Vazquez Sanchez Erick Alejandro"
   ]
  },
  {
   "cell_type": "code",
   "execution_count": 93,
   "id": "e1c62a36",
   "metadata": {},
   "outputs": [
    {
     "name": "stdout",
     "output_type": "stream",
     "text": [
      "Requirement already satisfied: scikit-learn in c:\\users\\erick\\workspaces\\procesamiento-lenguaje\\venv\\lib\\site-packages (1.5.2)\n",
      "Requirement already satisfied: numpy>=1.19.5 in c:\\users\\erick\\workspaces\\procesamiento-lenguaje\\venv\\lib\\site-packages (from scikit-learn) (2.1.1)\n",
      "Requirement already satisfied: scipy>=1.6.0 in c:\\users\\erick\\workspaces\\procesamiento-lenguaje\\venv\\lib\\site-packages (from scikit-learn) (1.14.1)\n",
      "Requirement already satisfied: joblib>=1.2.0 in c:\\users\\erick\\workspaces\\procesamiento-lenguaje\\venv\\lib\\site-packages (from scikit-learn) (1.4.2)\n",
      "Requirement already satisfied: threadpoolctl>=3.1.0 in c:\\users\\erick\\workspaces\\procesamiento-lenguaje\\venv\\lib\\site-packages (from scikit-learn) (3.5.0)\n",
      "Note: you may need to restart the kernel to use updated packages.\n",
      "Requirement already satisfied: matplotlib in c:\\users\\erick\\workspaces\\procesamiento-lenguaje\\venv\\lib\\site-packages (3.9.2)\n",
      "Requirement already satisfied: contourpy>=1.0.1 in c:\\users\\erick\\workspaces\\procesamiento-lenguaje\\venv\\lib\\site-packages (from matplotlib) (1.3.0)\n",
      "Requirement already satisfied: cycler>=0.10 in c:\\users\\erick\\workspaces\\procesamiento-lenguaje\\venv\\lib\\site-packages (from matplotlib) (0.12.1)\n",
      "Requirement already satisfied: fonttools>=4.22.0 in c:\\users\\erick\\workspaces\\procesamiento-lenguaje\\venv\\lib\\site-packages (from matplotlib) (4.53.1)\n",
      "Requirement already satisfied: kiwisolver>=1.3.1 in c:\\users\\erick\\workspaces\\procesamiento-lenguaje\\venv\\lib\\site-packages (from matplotlib) (1.4.7)\n",
      "Requirement already satisfied: numpy>=1.23 in c:\\users\\erick\\workspaces\\procesamiento-lenguaje\\venv\\lib\\site-packages (from matplotlib) (2.1.1)\n",
      "Requirement already satisfied: packaging>=20.0 in c:\\users\\erick\\workspaces\\procesamiento-lenguaje\\venv\\lib\\site-packages (from matplotlib) (24.1)\n",
      "Requirement already satisfied: pillow>=8 in c:\\users\\erick\\workspaces\\procesamiento-lenguaje\\venv\\lib\\site-packages (from matplotlib) (10.4.0)\n",
      "Requirement already satisfied: pyparsing>=2.3.1 in c:\\users\\erick\\workspaces\\procesamiento-lenguaje\\venv\\lib\\site-packages (from matplotlib) (3.1.4)\n",
      "Requirement already satisfied: python-dateutil>=2.7 in c:\\users\\erick\\workspaces\\procesamiento-lenguaje\\venv\\lib\\site-packages (from matplotlib) (2.9.0.post0)\n",
      "Requirement already satisfied: six>=1.5 in c:\\users\\erick\\workspaces\\procesamiento-lenguaje\\venv\\lib\\site-packages (from python-dateutil>=2.7->matplotlib) (1.16.0)\n",
      "Note: you may need to restart the kernel to use updated packages.\n",
      "Requirement already satisfied: pandas in c:\\users\\erick\\workspaces\\procesamiento-lenguaje\\venv\\lib\\site-packages (2.2.2)\n",
      "Requirement already satisfied: numpy>=1.26.0 in c:\\users\\erick\\workspaces\\procesamiento-lenguaje\\venv\\lib\\site-packages (from pandas) (2.1.1)\n",
      "Requirement already satisfied: python-dateutil>=2.8.2 in c:\\users\\erick\\workspaces\\procesamiento-lenguaje\\venv\\lib\\site-packages (from pandas) (2.9.0.post0)\n",
      "Requirement already satisfied: pytz>=2020.1 in c:\\users\\erick\\workspaces\\procesamiento-lenguaje\\venv\\lib\\site-packages (from pandas) (2024.2)\n",
      "Requirement already satisfied: tzdata>=2022.7 in c:\\users\\erick\\workspaces\\procesamiento-lenguaje\\venv\\lib\\site-packages (from pandas) (2024.1)\n",
      "Requirement already satisfied: six>=1.5 in c:\\users\\erick\\workspaces\\procesamiento-lenguaje\\venv\\lib\\site-packages (from python-dateutil>=2.8.2->pandas) (1.16.0)\n",
      "Note: you may need to restart the kernel to use updated packages.\n",
      "Requirement already satisfied: imblearn in c:\\users\\erick\\workspaces\\procesamiento-lenguaje\\venv\\lib\\site-packages (0.0)\n",
      "Requirement already satisfied: imbalanced-learn in c:\\users\\erick\\workspaces\\procesamiento-lenguaje\\venv\\lib\\site-packages (from imblearn) (0.12.3)\n",
      "Requirement already satisfied: numpy>=1.17.3 in c:\\users\\erick\\workspaces\\procesamiento-lenguaje\\venv\\lib\\site-packages (from imbalanced-learn->imblearn) (2.1.1)\n",
      "Requirement already satisfied: scipy>=1.5.0 in c:\\users\\erick\\workspaces\\procesamiento-lenguaje\\venv\\lib\\site-packages (from imbalanced-learn->imblearn) (1.14.1)\n",
      "Requirement already satisfied: scikit-learn>=1.0.2 in c:\\users\\erick\\workspaces\\procesamiento-lenguaje\\venv\\lib\\site-packages (from imbalanced-learn->imblearn) (1.5.2)\n",
      "Requirement already satisfied: joblib>=1.1.1 in c:\\users\\erick\\workspaces\\procesamiento-lenguaje\\venv\\lib\\site-packages (from imbalanced-learn->imblearn) (1.4.2)\n",
      "Requirement already satisfied: threadpoolctl>=2.0.0 in c:\\users\\erick\\workspaces\\procesamiento-lenguaje\\venv\\lib\\site-packages (from imbalanced-learn->imblearn) (3.5.0)\n",
      "Note: you may need to restart the kernel to use updated packages.\n",
      "Requirement already satisfied: imbalanced-learn in c:\\users\\erick\\workspaces\\procesamiento-lenguaje\\venv\\lib\\site-packages (0.12.3)\n",
      "Requirement already satisfied: numpy>=1.17.3 in c:\\users\\erick\\workspaces\\procesamiento-lenguaje\\venv\\lib\\site-packages (from imbalanced-learn) (2.1.1)\n",
      "Requirement already satisfied: scipy>=1.5.0 in c:\\users\\erick\\workspaces\\procesamiento-lenguaje\\venv\\lib\\site-packages (from imbalanced-learn) (1.14.1)\n",
      "Requirement already satisfied: scikit-learn>=1.0.2 in c:\\users\\erick\\workspaces\\procesamiento-lenguaje\\venv\\lib\\site-packages (from imbalanced-learn) (1.5.2)\n",
      "Requirement already satisfied: joblib>=1.1.1 in c:\\users\\erick\\workspaces\\procesamiento-lenguaje\\venv\\lib\\site-packages (from imbalanced-learn) (1.4.2)\n",
      "Requirement already satisfied: threadpoolctl>=2.0.0 in c:\\users\\erick\\workspaces\\procesamiento-lenguaje\\venv\\lib\\site-packages (from imbalanced-learn) (3.5.0)\n",
      "Note: you may need to restart the kernel to use updated packages.\n",
      "Note: you may need to restart the kernel to use updated packages.\n"
     ]
    },
    {
     "name": "stderr",
     "output_type": "stream",
     "text": [
      "ERROR: You must give at least one requirement to install (see \"pip help install\")\n"
     ]
    }
   ],
   "source": [
    "# Instalamos las librerias necesarias\n",
    "%pip install scikit-learn\n",
    "%pip install matplotlib\n",
    "%pip install pandas\n",
    "%pip install imblearn\n",
    "%pip install imbalanced-learn\n",
    "%pip install"
   ]
  },
  {
   "cell_type": "markdown",
   "id": "ced19ff7",
   "metadata": {},
   "source": [
    "## Preprocesamiento de los datos"
   ]
  },
  {
   "cell_type": "code",
   "execution_count": 94,
   "id": "d1458c2c-1dfe-4638-8655-a28df1ccd4ef",
   "metadata": {},
   "outputs": [],
   "source": [
    "import pandas as pd"
   ]
  },
  {
   "cell_type": "code",
   "execution_count": 95,
   "id": "6f850e02-db52-441f-99dd-41a7e08b594c",
   "metadata": {},
   "outputs": [
    {
     "name": "stderr",
     "output_type": "stream",
     "text": [
      "C:\\Users\\erick\\AppData\\Local\\Temp\\ipykernel_4832\\3071543590.py:1: DtypeWarning: Columns (7) have mixed types. Specify dtype option on import or set low_memory=False.\n",
      "  email_test = pd.read_csv('./fraud_email_train.csv')\n",
      "C:\\Users\\erick\\AppData\\Local\\Temp\\ipykernel_4832\\3071543590.py:2: DtypeWarning: Columns (7) have mixed types. Specify dtype option on import or set low_memory=False.\n",
      "  email_train = pd.read_csv('./fraud_email_test.csv')\n"
     ]
    }
   ],
   "source": [
    "email_test = pd.read_csv('./fraud_email_train.csv')\n",
    "email_train = pd.read_csv('./fraud_email_test.csv')"
   ]
  },
  {
   "cell_type": "code",
   "execution_count": 96,
   "id": "35f0db65-4358-4f2b-baa7-3cf6250519ee",
   "metadata": {},
   "outputs": [
    {
     "data": {
      "text/html": [
       "<div>\n",
       "<style scoped>\n",
       "    .dataframe tbody tr th:only-of-type {\n",
       "        vertical-align: middle;\n",
       "    }\n",
       "\n",
       "    .dataframe tbody tr th {\n",
       "        vertical-align: top;\n",
       "    }\n",
       "\n",
       "    .dataframe thead th {\n",
       "        text-align: right;\n",
       "    }\n",
       "</style>\n",
       "<table border=\"1\" class=\"dataframe\">\n",
       "  <thead>\n",
       "    <tr style=\"text-align: right;\">\n",
       "      <th></th>\n",
       "      <th>Folder-User</th>\n",
       "      <th>Folder-Name</th>\n",
       "      <th>Message-ID</th>\n",
       "      <th>Date</th>\n",
       "      <th>From</th>\n",
       "      <th>To</th>\n",
       "      <th>Subject</th>\n",
       "      <th>Mime-Version</th>\n",
       "      <th>Content-Type</th>\n",
       "      <th>Content-Transfer-Encoding</th>\n",
       "      <th>...</th>\n",
       "      <th>Re</th>\n",
       "      <th>Source</th>\n",
       "      <th>Mail-ID</th>\n",
       "      <th>POI-Present</th>\n",
       "      <th>Suspicious-Folders</th>\n",
       "      <th>Sender-Type</th>\n",
       "      <th>Unique-Mails-From-Sender</th>\n",
       "      <th>Low-Comm</th>\n",
       "      <th>Contains-Reply-Forwards</th>\n",
       "      <th>Label</th>\n",
       "    </tr>\n",
       "  </thead>\n",
       "  <tbody>\n",
       "    <tr>\n",
       "      <th>0</th>\n",
       "      <td>maildir</td>\n",
       "      <td>kuykendall-t</td>\n",
       "      <td>&lt;2493562.1075863265306.JavaMail.evans@thyme&gt;</td>\n",
       "      <td>Fri, 2 Nov 2001 09:06:13 -0800 (PST)</td>\n",
       "      <td>tori.kuykendall@enron.com</td>\n",
       "      <td>martin.cuilla@enron.com</td>\n",
       "      <td>free agency</td>\n",
       "      <td>1.0</td>\n",
       "      <td>text/plain; charset=us-ascii</td>\n",
       "      <td>7bit</td>\n",
       "      <td>...</td>\n",
       "      <td></td>\n",
       "      <td>Enron Data</td>\n",
       "      <td>d25f83c160a5980a830280b3549bcff7bd6d1c57d3119e264e5cf05d13366354</td>\n",
       "      <td>False</td>\n",
       "      <td>False</td>\n",
       "      <td>Internal</td>\n",
       "      <td>315.0</td>\n",
       "      <td>False</td>\n",
       "      <td>False</td>\n",
       "      <td>0</td>\n",
       "    </tr>\n",
       "    <tr>\n",
       "      <th>1</th>\n",
       "      <td>maildir</td>\n",
       "      <td>rodrique-r</td>\n",
       "      <td>&lt;16766317.1075858344871.JavaMail.evans@thyme&gt;</td>\n",
       "      <td>Wed, 13 Sep 2000 11:17:00 -0700 (PDT)</td>\n",
       "      <td>robin.rodrigue@enron.com</td>\n",
       "      <td>pallen70@hotmail.com</td>\n",
       "      <td>9/13</td>\n",
       "      <td>1.0</td>\n",
       "      <td>text/plain; charset=us-ascii</td>\n",
       "      <td>7bit</td>\n",
       "      <td>...</td>\n",
       "      <td></td>\n",
       "      <td>Enron Data</td>\n",
       "      <td>a75bbfaafc2667c658aae7d01e49f15efd5e528fb83cb47f58f8ea74f7c9b886</td>\n",
       "      <td>False</td>\n",
       "      <td>False</td>\n",
       "      <td>Internal</td>\n",
       "      <td>728.0</td>\n",
       "      <td>False</td>\n",
       "      <td>False</td>\n",
       "      <td>0</td>\n",
       "    </tr>\n",
       "    <tr>\n",
       "      <th>2</th>\n",
       "      <td>maildir</td>\n",
       "      <td>dasovich-j</td>\n",
       "      <td>&lt;14602780.1075843196219.JavaMail.evans@thyme&gt;</td>\n",
       "      <td>Fri, 6 Oct 2000 02:55:00 -0700 (PDT)</td>\n",
       "      <td>jeff.dasovich@enron.com</td>\n",
       "      <td>james.steffes@enron.com</td>\n",
       "      <td>Re: Rebecca Smith</td>\n",
       "      <td>1.0</td>\n",
       "      <td>text/plain; charset=us-ascii</td>\n",
       "      <td>7bit</td>\n",
       "      <td>...</td>\n",
       "      <td></td>\n",
       "      <td>Enron Data</td>\n",
       "      <td>b1d36ddfd2e2406ee4033f742fb7030d113e7e29132591791d0f505c772fccff</td>\n",
       "      <td>False</td>\n",
       "      <td>False</td>\n",
       "      <td>Internal</td>\n",
       "      <td>5486.0</td>\n",
       "      <td>False</td>\n",
       "      <td>False</td>\n",
       "      <td>0</td>\n",
       "    </tr>\n",
       "    <tr>\n",
       "      <th>3</th>\n",
       "      <td>maildir</td>\n",
       "      <td>grigsby-m</td>\n",
       "      <td>&lt;28242010.1075855592756.JavaMail.evans@thyme&gt;</td>\n",
       "      <td>Mon, 26 Mar 2001 15:01:00 -0800 (PST)</td>\n",
       "      <td>mike.grigsby@enron.com</td>\n",
       "      <td>anne.bike@enron.com</td>\n",
       "      <td>CIG and WIC</td>\n",
       "      <td>1.0</td>\n",
       "      <td>text/plain; charset=us-ascii</td>\n",
       "      <td>7bit</td>\n",
       "      <td>...</td>\n",
       "      <td></td>\n",
       "      <td>Enron Data</td>\n",
       "      <td>f162c2a145cb1c3fac1793bd30e93f86f9734db9e249c1ec3b390b4bedac756b</td>\n",
       "      <td>False</td>\n",
       "      <td>False</td>\n",
       "      <td>Internal</td>\n",
       "      <td>668.0</td>\n",
       "      <td>False</td>\n",
       "      <td>False</td>\n",
       "      <td>0</td>\n",
       "    </tr>\n",
       "    <tr>\n",
       "      <th>4</th>\n",
       "      <td>maildir</td>\n",
       "      <td>shackleton-s</td>\n",
       "      <td>&lt;7188760.1075844535973.JavaMail.evans@thyme&gt;</td>\n",
       "      <td>Mon, 10 Jan 2000 05:57:00 -0800 (PST)</td>\n",
       "      <td>sara.shackleton@enron.com</td>\n",
       "      <td>mark.taylor@enron.com</td>\n",
       "      <td>Eye doctor - 8:15 am on Tuesday, Jan. 11</td>\n",
       "      <td>1.0</td>\n",
       "      <td>text/plain; charset=us-ascii</td>\n",
       "      <td>7bit</td>\n",
       "      <td>...</td>\n",
       "      <td></td>\n",
       "      <td>Enron Data</td>\n",
       "      <td>b1d82c4b962cb81acc5736028321a8f010de3266c07d9896435ff5b5ef1ce316</td>\n",
       "      <td>False</td>\n",
       "      <td>False</td>\n",
       "      <td>Internal</td>\n",
       "      <td>4430.0</td>\n",
       "      <td>False</td>\n",
       "      <td>False</td>\n",
       "      <td>0</td>\n",
       "    </tr>\n",
       "  </tbody>\n",
       "</table>\n",
       "<p>5 rows × 32 columns</p>\n",
       "</div>"
      ],
      "text/plain": [
       "  Folder-User   Folder-Name                                     Message-ID  \\\n",
       "0     maildir  kuykendall-t   <2493562.1075863265306.JavaMail.evans@thyme>   \n",
       "1     maildir    rodrique-r  <16766317.1075858344871.JavaMail.evans@thyme>   \n",
       "2     maildir    dasovich-j  <14602780.1075843196219.JavaMail.evans@thyme>   \n",
       "3     maildir     grigsby-m  <28242010.1075855592756.JavaMail.evans@thyme>   \n",
       "4     maildir  shackleton-s   <7188760.1075844535973.JavaMail.evans@thyme>   \n",
       "\n",
       "                                    Date                       From  \\\n",
       "0   Fri, 2 Nov 2001 09:06:13 -0800 (PST)  tori.kuykendall@enron.com   \n",
       "1  Wed, 13 Sep 2000 11:17:00 -0700 (PDT)   robin.rodrigue@enron.com   \n",
       "2   Fri, 6 Oct 2000 02:55:00 -0700 (PDT)    jeff.dasovich@enron.com   \n",
       "3  Mon, 26 Mar 2001 15:01:00 -0800 (PST)     mike.grigsby@enron.com   \n",
       "4  Mon, 10 Jan 2000 05:57:00 -0800 (PST)  sara.shackleton@enron.com   \n",
       "\n",
       "                        To                                   Subject  \\\n",
       "0  martin.cuilla@enron.com                               free agency   \n",
       "1     pallen70@hotmail.com                                      9/13   \n",
       "2  james.steffes@enron.com                         Re: Rebecca Smith   \n",
       "3      anne.bike@enron.com                               CIG and WIC   \n",
       "4    mark.taylor@enron.com  Eye doctor - 8:15 am on Tuesday, Jan. 11   \n",
       "\n",
       "  Mime-Version                  Content-Type Content-Transfer-Encoding  ...  \\\n",
       "0          1.0  text/plain; charset=us-ascii                      7bit  ...   \n",
       "1          1.0  text/plain; charset=us-ascii                      7bit  ...   \n",
       "2          1.0  text/plain; charset=us-ascii                      7bit  ...   \n",
       "3          1.0  text/plain; charset=us-ascii                      7bit  ...   \n",
       "4          1.0  text/plain; charset=us-ascii                      7bit  ...   \n",
       "\n",
       "  Re      Source  \\\n",
       "0     Enron Data   \n",
       "1     Enron Data   \n",
       "2     Enron Data   \n",
       "3     Enron Data   \n",
       "4     Enron Data   \n",
       "\n",
       "                                                            Mail-ID  \\\n",
       "0  d25f83c160a5980a830280b3549bcff7bd6d1c57d3119e264e5cf05d13366354   \n",
       "1  a75bbfaafc2667c658aae7d01e49f15efd5e528fb83cb47f58f8ea74f7c9b886   \n",
       "2  b1d36ddfd2e2406ee4033f742fb7030d113e7e29132591791d0f505c772fccff   \n",
       "3  f162c2a145cb1c3fac1793bd30e93f86f9734db9e249c1ec3b390b4bedac756b   \n",
       "4  b1d82c4b962cb81acc5736028321a8f010de3266c07d9896435ff5b5ef1ce316   \n",
       "\n",
       "  POI-Present Suspicious-Folders Sender-Type Unique-Mails-From-Sender  \\\n",
       "0       False              False    Internal                    315.0   \n",
       "1       False              False    Internal                    728.0   \n",
       "2       False              False    Internal                   5486.0   \n",
       "3       False              False    Internal                    668.0   \n",
       "4       False              False    Internal                   4430.0   \n",
       "\n",
       "  Low-Comm Contains-Reply-Forwards Label  \n",
       "0    False                   False     0  \n",
       "1    False                   False     0  \n",
       "2    False                   False     0  \n",
       "3    False                   False     0  \n",
       "4    False                   False     0  \n",
       "\n",
       "[5 rows x 32 columns]"
      ]
     },
     "execution_count": 96,
     "metadata": {},
     "output_type": "execute_result"
    }
   ],
   "source": [
    "# Regresa las primeras n filas, n por defecto vale 5\n",
    "email_train.head()"
   ]
  },
  {
   "cell_type": "code",
   "execution_count": 97,
   "id": "a6de9ff2",
   "metadata": {},
   "outputs": [
    {
     "data": {
      "text/plain": [
       "Index(['Folder-User', 'Folder-Name', 'Message-ID', 'Date', 'From', 'To',\n",
       "       'Subject', 'Mime-Version', 'Content-Type', 'Content-Transfer-Encoding',\n",
       "       'X-From', 'X-To', 'X-cc', 'X-bcc', 'X-Folder', 'X-Origin', 'X-FileName',\n",
       "       'Body', 'Cc', 'Bcc', 'Time', 'Attendees', 'Re', 'Source', 'Mail-ID',\n",
       "       'POI-Present', 'Suspicious-Folders', 'Sender-Type',\n",
       "       'Unique-Mails-From-Sender', 'Low-Comm', 'Contains-Reply-Forwards',\n",
       "       'Label'],\n",
       "      dtype='object')"
      ]
     },
     "execution_count": 97,
     "metadata": {},
     "output_type": "execute_result"
    }
   ],
   "source": [
    "email_train.columns"
   ]
  },
  {
   "cell_type": "markdown",
   "id": "b4bd09b1",
   "metadata": {},
   "source": [
    "## Caracteristicas principales\n",
    "\n",
    "Vamos a quitar las caracteristicas menos significativas de los datos:\n",
    "- Folder-User\n",
    "- Folder-Name\n",
    "- Message-ID\n",
    "- Mime-Version\n",
    "- Content-Transfering-Encoding\n",
    "- X-From\n",
    "- X-To\n",
    "- X-cc\n",
    "- X-bcc\n",
    "- X-Folder\n",
    "- X-Origin\n",
    "- X-Filename\n",
    "- Source\n",
    "- Mail-ID\n",
    "- Time\n",
    "- Attendees\n",
    "- Re\n",
    "- PIO-Present\n",
    "\n",
    "Las caracteristicas sobrantes:\n",
    "- From, To, Cc, Bcc: Información sobre los remitentes y destinatarios.\n",
    "- Subject: Asunto del correo\n",
    "- Body: Contenido del correo\n",
    "- Contains-Reply-Forwards: Podría ser útil dependiendo de si las respuestas o reenvíos son una característica de los correos spam.\n",
    "- Label: Etiqueta que indica si es span o no.\n",
    "- Suspicious-Folder\n",
    "- Low-Comm: indica la frecuencia de comunicacion con el remitente."
   ]
  },
  {
   "cell_type": "code",
   "execution_count": 98,
   "id": "d9fd406e",
   "metadata": {},
   "outputs": [
    {
     "data": {
      "text/html": [
       "<div>\n",
       "<style scoped>\n",
       "    .dataframe tbody tr th:only-of-type {\n",
       "        vertical-align: middle;\n",
       "    }\n",
       "\n",
       "    .dataframe tbody tr th {\n",
       "        vertical-align: top;\n",
       "    }\n",
       "\n",
       "    .dataframe thead th {\n",
       "        text-align: right;\n",
       "    }\n",
       "</style>\n",
       "<table border=\"1\" class=\"dataframe\">\n",
       "  <thead>\n",
       "    <tr style=\"text-align: right;\">\n",
       "      <th></th>\n",
       "      <th>From</th>\n",
       "      <th>To</th>\n",
       "      <th>Cc</th>\n",
       "      <th>Bcc</th>\n",
       "      <th>Subject</th>\n",
       "      <th>Body</th>\n",
       "      <th>Content-Type</th>\n",
       "      <th>Contains-Reply-Forwards</th>\n",
       "      <th>Suspicious-Folders</th>\n",
       "      <th>Low-Comm</th>\n",
       "      <th>Sender-Type</th>\n",
       "      <th>Label</th>\n",
       "    </tr>\n",
       "  </thead>\n",
       "  <tbody>\n",
       "    <tr>\n",
       "      <th>0</th>\n",
       "      <td>tori.kuykendall@enron.com</td>\n",
       "      <td>martin.cuilla@enron.com</td>\n",
       "      <td></td>\n",
       "      <td></td>\n",
       "      <td>free agency</td>\n",
       "      <td>free agency i would like to bid 5 points on jay fiedler</td>\n",
       "      <td>text/plain; charset=us-ascii</td>\n",
       "      <td>False</td>\n",
       "      <td>False</td>\n",
       "      <td>False</td>\n",
       "      <td>Internal</td>\n",
       "      <td>0</td>\n",
       "    </tr>\n",
       "    <tr>\n",
       "      <th>1</th>\n",
       "      <td>robin.rodrigue@enron.com</td>\n",
       "      <td>pallen70@hotmail.com</td>\n",
       "      <td></td>\n",
       "      <td></td>\n",
       "      <td>9/13</td>\n",
       "      <td>9/13 Have a good evening. Robin</td>\n",
       "      <td>text/plain; charset=us-ascii</td>\n",
       "      <td>False</td>\n",
       "      <td>False</td>\n",
       "      <td>False</td>\n",
       "      <td>Internal</td>\n",
       "      <td>0</td>\n",
       "    </tr>\n",
       "    <tr>\n",
       "      <th>2</th>\n",
       "      <td>jeff.dasovich@enron.com</td>\n",
       "      <td>james.steffes@enron.com</td>\n",
       "      <td>['karen.denne@enron.com', 'mpalmer@enron.com', 'rshapiro@enron.com', 'skean@enron.com']</td>\n",
       "      <td>karen.denne@enron.com, mpalmer@enron.com, rshapiro@enron.com, \\n\\tskean@enron.com</td>\n",
       "      <td>Re: Rebecca Smith</td>\n",
       "      <td>Agree completely. Notion I had was that we give Rebecca the slides, tell her the story on background, then she trots off to interview McNeally, Ellison, etc. Just a thought. Might be easier, faster channel that achieves the quick action/message we're looking for. James D Steffes 10/05/2000 08:30 PM</td>\n",
       "      <td>text/plain; charset=us-ascii</td>\n",
       "      <td>False</td>\n",
       "      <td>False</td>\n",
       "      <td>False</td>\n",
       "      <td>Internal</td>\n",
       "      <td>0</td>\n",
       "    </tr>\n",
       "    <tr>\n",
       "      <th>3</th>\n",
       "      <td>mike.grigsby@enron.com</td>\n",
       "      <td>anne.bike@enron.com</td>\n",
       "      <td></td>\n",
       "      <td></td>\n",
       "      <td>CIG and WIC</td>\n",
       "      <td>Please write up a ticket transferring my CIG and WIC April physical positions to IM denver. I will be selling CIG index to Jay at CIG index flat and buying the 2000/d at CIG index minus .03. Also, run a report of all my term index positions at CIG and WIC for the summer, so that we can transfer these to Jay as well. Thanks, Mike</td>\n",
       "      <td>text/plain; charset=us-ascii</td>\n",
       "      <td>False</td>\n",
       "      <td>False</td>\n",
       "      <td>False</td>\n",
       "      <td>Internal</td>\n",
       "      <td>0</td>\n",
       "    </tr>\n",
       "    <tr>\n",
       "      <th>4</th>\n",
       "      <td>sara.shackleton@enron.com</td>\n",
       "      <td>mark.taylor@enron.com</td>\n",
       "      <td>kaye.ellis@enron.com</td>\n",
       "      <td>kaye.ellis@enron.com</td>\n",
       "      <td>Eye doctor - 8:15 am on Tuesday, Jan. 11</td>\n",
       "      <td>Eye doctor 8:15 am on Tuesday, Jan. 11 I shouldn't be too late. ss</td>\n",
       "      <td>text/plain; charset=us-ascii</td>\n",
       "      <td>False</td>\n",
       "      <td>False</td>\n",
       "      <td>False</td>\n",
       "      <td>Internal</td>\n",
       "      <td>0</td>\n",
       "    </tr>\n",
       "  </tbody>\n",
       "</table>\n",
       "</div>"
      ],
      "text/plain": [
       "                        From                       To  \\\n",
       "0  tori.kuykendall@enron.com  martin.cuilla@enron.com   \n",
       "1   robin.rodrigue@enron.com     pallen70@hotmail.com   \n",
       "2    jeff.dasovich@enron.com  james.steffes@enron.com   \n",
       "3     mike.grigsby@enron.com      anne.bike@enron.com   \n",
       "4  sara.shackleton@enron.com    mark.taylor@enron.com   \n",
       "\n",
       "                                                                                        Cc  \\\n",
       "0                                                                                            \n",
       "1                                                                                            \n",
       "2  ['karen.denne@enron.com', 'mpalmer@enron.com', 'rshapiro@enron.com', 'skean@enron.com']   \n",
       "3                                                                                            \n",
       "4                                                                     kaye.ellis@enron.com   \n",
       "\n",
       "                                                                                 Bcc  \\\n",
       "0                                                                                      \n",
       "1                                                                                      \n",
       "2  karen.denne@enron.com, mpalmer@enron.com, rshapiro@enron.com, \\n\\tskean@enron.com   \n",
       "3                                                                                      \n",
       "4                                                               kaye.ellis@enron.com   \n",
       "\n",
       "                                    Subject  \\\n",
       "0                               free agency   \n",
       "1                                      9/13   \n",
       "2                         Re: Rebecca Smith   \n",
       "3                               CIG and WIC   \n",
       "4  Eye doctor - 8:15 am on Tuesday, Jan. 11   \n",
       "\n",
       "                                                                                                                                                                                                                                                                                                                                         Body  \\\n",
       "0                                                                                                                                                                                                                                                                                     free agency i would like to bid 5 points on jay fiedler   \n",
       "1                                                                                                                                                                                                                                                                                                             9/13 Have a good evening. Robin   \n",
       "2                                Agree completely. Notion I had was that we give Rebecca the slides, tell her the story on background, then she trots off to interview McNeally, Ellison, etc. Just a thought. Might be easier, faster channel that achieves the quick action/message we're looking for. James D Steffes 10/05/2000 08:30 PM    \n",
       "3  Please write up a ticket transferring my CIG and WIC April physical positions to IM denver. I will be selling CIG index to Jay at CIG index flat and buying the 2000/d at CIG index minus .03. Also, run a report of all my term index positions at CIG and WIC for the summer, so that we can transfer these to Jay as well. Thanks, Mike   \n",
       "4                                                                                                                                                                                                                                                                          Eye doctor 8:15 am on Tuesday, Jan. 11 I shouldn't be too late. ss   \n",
       "\n",
       "                   Content-Type  Contains-Reply-Forwards  Suspicious-Folders  \\\n",
       "0  text/plain; charset=us-ascii                    False               False   \n",
       "1  text/plain; charset=us-ascii                    False               False   \n",
       "2  text/plain; charset=us-ascii                    False               False   \n",
       "3  text/plain; charset=us-ascii                    False               False   \n",
       "4  text/plain; charset=us-ascii                    False               False   \n",
       "\n",
       "   Low-Comm Sender-Type  Label  \n",
       "0     False    Internal      0  \n",
       "1     False    Internal      0  \n",
       "2     False    Internal      0  \n",
       "3     False    Internal      0  \n",
       "4     False    Internal      0  "
      ]
     },
     "execution_count": 98,
     "metadata": {},
     "output_type": "execute_result"
    }
   ],
   "source": [
    "datos_seleccionados_train = email_train[['From', 'To', 'Cc', 'Bcc', 'Subject', 'Body', 'Content-Type', 'Contains-Reply-Forwards', 'Suspicious-Folders', 'Low-Comm', 'Sender-Type', 'Label']]\n",
    "datos_seleccionados_test = email_test[['From', 'To', 'Cc', 'Bcc', 'Subject', 'Body', 'Content-Type', 'Contains-Reply-Forwards', 'Suspicious-Folders', 'Low-Comm', 'Sender-Type', 'Label']]\n",
    "\n",
    "datos_seleccionados_train.head()"
   ]
  },
  {
   "cell_type": "markdown",
   "id": "e0c07781",
   "metadata": {},
   "source": [
    "- Conteo de clases"
   ]
  },
  {
   "cell_type": "code",
   "execution_count": 99,
   "id": "7eb4ae8f",
   "metadata": {},
   "outputs": [
    {
     "data": {
      "text/plain": [
       "Label\n",
       "0    89017\n",
       "1      467\n",
       "Name: count, dtype: int64"
      ]
     },
     "execution_count": 99,
     "metadata": {},
     "output_type": "execute_result"
    }
   ],
   "source": [
    "datos_seleccionados_train['Label'].value_counts()"
   ]
  },
  {
   "cell_type": "code",
   "execution_count": 100,
   "id": "e9496afe",
   "metadata": {},
   "outputs": [
    {
     "name": "stderr",
     "output_type": "stream",
     "text": [
      "C:\\Users\\erick\\AppData\\Local\\Temp\\ipykernel_4832\\2385600244.py:3: FutureWarning: pandas.value_counts is deprecated and will be removed in a future version. Use pd.Series(obj).value_counts() instead.\n",
      "  count_classes = pd.value_counts(datos_seleccionados_train['Label'], sort=True)\n"
     ]
    },
    {
     "data": {
      "image/png": "[encoded data removed]",
      "text/plain": [
       "<Figure size 640x480 with 1 Axes>"
      ]
     },
     "metadata": {},
     "output_type": "display_data"
    }
   ],
   "source": [
    "import matplotlib.pyplot as plt\n",
    "\n",
    "count_classes = pd.value_counts(datos_seleccionados_train['Label'], sort=True)\n",
    "\n",
    "count_classes.plot(kind='bar', rot=0)\n",
    "\n",
    "plt.xticks(range(2), ['No spam', 'Spam'])\n",
    "plt.title(\"Frecuencia de las clases para clasificar correos\")\n",
    "plt.xlabel(\"Clase\")\n",
    "plt.ylabel(\"Frecuencia\")\n",
    "\n",
    "# Mostrar la gráfica\n",
    "plt.show()\n"
   ]
  },
  {
   "cell_type": "code",
   "execution_count": 101,
   "id": "89cf4eb2",
   "metadata": {},
   "outputs": [
    {
     "name": "stderr",
     "output_type": "stream",
     "text": [
      "C:\\Users\\erick\\AppData\\Local\\Temp\\ipykernel_4832\\553437756.py:6: SettingWithCopyWarning: \n",
      "A value is trying to be set on a copy of a slice from a DataFrame.\n",
      "Try using .loc[row_indexer,col_indexer] = value instead\n",
      "\n",
      "See the caveats in the documentation: https://pandas.pydata.org/pandas-docs/stable/user_guide/indexing.html#returning-a-view-versus-a-copy\n",
      "  datos_seleccionados_train['Cc'] = datos_seleccionados_train['Cc'].apply(limpiar_texto)\n",
      "C:\\Users\\erick\\AppData\\Local\\Temp\\ipykernel_4832\\553437756.py:7: SettingWithCopyWarning: \n",
      "A value is trying to be set on a copy of a slice from a DataFrame.\n",
      "Try using .loc[row_indexer,col_indexer] = value instead\n",
      "\n",
      "See the caveats in the documentation: https://pandas.pydata.org/pandas-docs/stable/user_guide/indexing.html#returning-a-view-versus-a-copy\n",
      "  datos_seleccionados_train['Bcc'] = datos_seleccionados_train['Bcc'].apply(limpiar_texto)\n",
      "C:\\Users\\erick\\AppData\\Local\\Temp\\ipykernel_4832\\553437756.py:8: SettingWithCopyWarning: \n",
      "A value is trying to be set on a copy of a slice from a DataFrame.\n",
      "Try using .loc[row_indexer,col_indexer] = value instead\n",
      "\n",
      "See the caveats in the documentation: https://pandas.pydata.org/pandas-docs/stable/user_guide/indexing.html#returning-a-view-versus-a-copy\n",
      "  datos_seleccionados_test['Cc'] = datos_seleccionados_test['Cc'].apply(limpiar_texto)\n",
      "C:\\Users\\erick\\AppData\\Local\\Temp\\ipykernel_4832\\553437756.py:9: SettingWithCopyWarning: \n",
      "A value is trying to be set on a copy of a slice from a DataFrame.\n",
      "Try using .loc[row_indexer,col_indexer] = value instead\n",
      "\n",
      "See the caveats in the documentation: https://pandas.pydata.org/pandas-docs/stable/user_guide/indexing.html#returning-a-view-versus-a-copy\n",
      "  datos_seleccionados_test['Bcc'] = datos_seleccionados_test['Bcc'].apply(limpiar_texto)\n"
     ]
    }
   ],
   "source": [
    "import re\n",
    "\n",
    "def limpiar_texto(texto):\n",
    "  return re.sub(r\"[\\'\\[\\],\\n\\t]\", \"\", texto).strip()\n",
    "\n",
    "datos_seleccionados_train['Cc'] = datos_seleccionados_train['Cc'].apply(limpiar_texto)\n",
    "datos_seleccionados_train['Bcc'] = datos_seleccionados_train['Bcc'].apply(limpiar_texto)\n",
    "datos_seleccionados_test['Cc'] = datos_seleccionados_test['Cc'].apply(limpiar_texto)\n",
    "datos_seleccionados_test['Bcc'] = datos_seleccionados_test['Bcc'].apply(limpiar_texto)\n"
   ]
  },
  {
   "cell_type": "code",
   "execution_count": 102,
   "id": "d44d6b22",
   "metadata": {},
   "outputs": [
    {
     "name": "stderr",
     "output_type": "stream",
     "text": [
      "C:\\Users\\erick\\AppData\\Local\\Temp\\ipykernel_4832\\3539023373.py:2: SettingWithCopyWarning: \n",
      "A value is trying to be set on a copy of a slice from a DataFrame.\n",
      "Try using .loc[row_indexer,col_indexer] = value instead\n",
      "\n",
      "See the caveats in the documentation: https://pandas.pydata.org/pandas-docs/stable/user_guide/indexing.html#returning-a-view-versus-a-copy\n",
      "  datos_seleccionados_train['Contains-Reply-Forwards'] = 'CRF_' + datos_seleccionados_train['Contains-Reply-Forwards'].astype('str')\n",
      "C:\\Users\\erick\\AppData\\Local\\Temp\\ipykernel_4832\\3539023373.py:3: SettingWithCopyWarning: \n",
      "A value is trying to be set on a copy of a slice from a DataFrame.\n",
      "Try using .loc[row_indexer,col_indexer] = value instead\n",
      "\n",
      "See the caveats in the documentation: https://pandas.pydata.org/pandas-docs/stable/user_guide/indexing.html#returning-a-view-versus-a-copy\n",
      "  datos_seleccionados_train['Suspicious-Folders'] = 'SF_' + datos_seleccionados_train['Suspicious-Folders'].astype('str')\n",
      "C:\\Users\\erick\\AppData\\Local\\Temp\\ipykernel_4832\\3539023373.py:4: SettingWithCopyWarning: \n",
      "A value is trying to be set on a copy of a slice from a DataFrame.\n",
      "Try using .loc[row_indexer,col_indexer] = value instead\n",
      "\n",
      "See the caveats in the documentation: https://pandas.pydata.org/pandas-docs/stable/user_guide/indexing.html#returning-a-view-versus-a-copy\n",
      "  datos_seleccionados_train['Low-Comm'] = 'LC_' + datos_seleccionados_train['Low-Comm'].astype('str')\n",
      "C:\\Users\\erick\\AppData\\Local\\Temp\\ipykernel_4832\\3539023373.py:5: SettingWithCopyWarning: \n",
      "A value is trying to be set on a copy of a slice from a DataFrame.\n",
      "Try using .loc[row_indexer,col_indexer] = value instead\n",
      "\n",
      "See the caveats in the documentation: https://pandas.pydata.org/pandas-docs/stable/user_guide/indexing.html#returning-a-view-versus-a-copy\n",
      "  datos_seleccionados_train['From'] = 'From_' + datos_seleccionados_train['From']\n",
      "C:\\Users\\erick\\AppData\\Local\\Temp\\ipykernel_4832\\3539023373.py:6: SettingWithCopyWarning: \n",
      "A value is trying to be set on a copy of a slice from a DataFrame.\n",
      "Try using .loc[row_indexer,col_indexer] = value instead\n",
      "\n",
      "See the caveats in the documentation: https://pandas.pydata.org/pandas-docs/stable/user_guide/indexing.html#returning-a-view-versus-a-copy\n",
      "  datos_seleccionados_train['To'] = 'To_' + datos_seleccionados_train['To']\n",
      "C:\\Users\\erick\\AppData\\Local\\Temp\\ipykernel_4832\\3539023373.py:13: SettingWithCopyWarning: \n",
      "A value is trying to be set on a copy of a slice from a DataFrame.\n",
      "Try using .loc[row_indexer,col_indexer] = value instead\n",
      "\n",
      "See the caveats in the documentation: https://pandas.pydata.org/pandas-docs/stable/user_guide/indexing.html#returning-a-view-versus-a-copy\n",
      "  datos_seleccionados_test['Contains-Reply-Forwards'] = 'CRF_' + datos_seleccionados_test['Contains-Reply-Forwards'].astype('str')\n",
      "C:\\Users\\erick\\AppData\\Local\\Temp\\ipykernel_4832\\3539023373.py:14: SettingWithCopyWarning: \n",
      "A value is trying to be set on a copy of a slice from a DataFrame.\n",
      "Try using .loc[row_indexer,col_indexer] = value instead\n",
      "\n",
      "See the caveats in the documentation: https://pandas.pydata.org/pandas-docs/stable/user_guide/indexing.html#returning-a-view-versus-a-copy\n",
      "  datos_seleccionados_test['Suspicious-Folders'] = 'SF_' + datos_seleccionados_test['Suspicious-Folders'].astype('str')\n",
      "C:\\Users\\erick\\AppData\\Local\\Temp\\ipykernel_4832\\3539023373.py:15: SettingWithCopyWarning: \n",
      "A value is trying to be set on a copy of a slice from a DataFrame.\n",
      "Try using .loc[row_indexer,col_indexer] = value instead\n",
      "\n",
      "See the caveats in the documentation: https://pandas.pydata.org/pandas-docs/stable/user_guide/indexing.html#returning-a-view-versus-a-copy\n",
      "  datos_seleccionados_test['Low-Comm'] = 'LC_' + datos_seleccionados_test['Low-Comm'].astype('str')\n",
      "C:\\Users\\erick\\AppData\\Local\\Temp\\ipykernel_4832\\3539023373.py:16: SettingWithCopyWarning: \n",
      "A value is trying to be set on a copy of a slice from a DataFrame.\n",
      "Try using .loc[row_indexer,col_indexer] = value instead\n",
      "\n",
      "See the caveats in the documentation: https://pandas.pydata.org/pandas-docs/stable/user_guide/indexing.html#returning-a-view-versus-a-copy\n",
      "  datos_seleccionados_test['From'] = 'From_' + datos_seleccionados_test['From']\n",
      "C:\\Users\\erick\\AppData\\Local\\Temp\\ipykernel_4832\\3539023373.py:17: SettingWithCopyWarning: \n",
      "A value is trying to be set on a copy of a slice from a DataFrame.\n",
      "Try using .loc[row_indexer,col_indexer] = value instead\n",
      "\n",
      "See the caveats in the documentation: https://pandas.pydata.org/pandas-docs/stable/user_guide/indexing.html#returning-a-view-versus-a-copy\n",
      "  datos_seleccionados_test['To'] = 'To_' + datos_seleccionados_test['To']\n"
     ]
    },
    {
     "data": {
      "text/html": [
       "<div>\n",
       "<style scoped>\n",
       "    .dataframe tbody tr th:only-of-type {\n",
       "        vertical-align: middle;\n",
       "    }\n",
       "\n",
       "    .dataframe tbody tr th {\n",
       "        vertical-align: top;\n",
       "    }\n",
       "\n",
       "    .dataframe thead th {\n",
       "        text-align: right;\n",
       "    }\n",
       "</style>\n",
       "<table border=\"1\" class=\"dataframe\">\n",
       "  <thead>\n",
       "    <tr style=\"text-align: right;\">\n",
       "      <th></th>\n",
       "      <th>From</th>\n",
       "      <th>To</th>\n",
       "      <th>Cc</th>\n",
       "      <th>Bcc</th>\n",
       "      <th>Subject</th>\n",
       "      <th>Body</th>\n",
       "      <th>Content-Type</th>\n",
       "      <th>Contains-Reply-Forwards</th>\n",
       "      <th>Suspicious-Folders</th>\n",
       "      <th>Low-Comm</th>\n",
       "      <th>Sender-Type</th>\n",
       "      <th>Label</th>\n",
       "    </tr>\n",
       "  </thead>\n",
       "  <tbody>\n",
       "    <tr>\n",
       "      <th>0</th>\n",
       "      <td>From_tori.kuykendall@enron.com</td>\n",
       "      <td>To_martin.cuilla@enron.com</td>\n",
       "      <td></td>\n",
       "      <td></td>\n",
       "      <td>free agency</td>\n",
       "      <td>free agency i would like to bid 5 points on jay fiedler</td>\n",
       "      <td>text/plain; charset=us-ascii</td>\n",
       "      <td>CRF_False</td>\n",
       "      <td>SF_False</td>\n",
       "      <td>LC_False</td>\n",
       "      <td>Internal</td>\n",
       "      <td>0</td>\n",
       "    </tr>\n",
       "    <tr>\n",
       "      <th>1</th>\n",
       "      <td>From_robin.rodrigue@enron.com</td>\n",
       "      <td>To_pallen70@hotmail.com</td>\n",
       "      <td></td>\n",
       "      <td></td>\n",
       "      <td>9/13</td>\n",
       "      <td>9/13 Have a good evening. Robin</td>\n",
       "      <td>text/plain; charset=us-ascii</td>\n",
       "      <td>CRF_False</td>\n",
       "      <td>SF_False</td>\n",
       "      <td>LC_False</td>\n",
       "      <td>Internal</td>\n",
       "      <td>0</td>\n",
       "    </tr>\n",
       "    <tr>\n",
       "      <th>2</th>\n",
       "      <td>From_jeff.dasovich@enron.com</td>\n",
       "      <td>To_james.steffes@enron.com</td>\n",
       "      <td>karen.denne@enron.com mpalmer@enron.com rshapiro@enron.com skean@enron.com</td>\n",
       "      <td>karen.denne@enron.com mpalmer@enron.com rshapiro@enron.com skean@enron.com</td>\n",
       "      <td>Re: Rebecca Smith</td>\n",
       "      <td>Agree completely. Notion I had was that we give Rebecca the slides, tell her the story on background, then she trots off to interview McNeally, Ellison, etc. Just a thought. Might be easier, faster channel that achieves the quick action/message we're looking for. James D Steffes 10/05/2000 08:30 PM</td>\n",
       "      <td>text/plain; charset=us-ascii</td>\n",
       "      <td>CRF_False</td>\n",
       "      <td>SF_False</td>\n",
       "      <td>LC_False</td>\n",
       "      <td>Internal</td>\n",
       "      <td>0</td>\n",
       "    </tr>\n",
       "    <tr>\n",
       "      <th>3</th>\n",
       "      <td>From_mike.grigsby@enron.com</td>\n",
       "      <td>To_anne.bike@enron.com</td>\n",
       "      <td></td>\n",
       "      <td></td>\n",
       "      <td>CIG and WIC</td>\n",
       "      <td>Please write up a ticket transferring my CIG and WIC April physical positions to IM denver. I will be selling CIG index to Jay at CIG index flat and buying the 2000/d at CIG index minus .03. Also, run a report of all my term index positions at CIG and WIC for the summer, so that we can transfer these to Jay as well. Thanks, Mike</td>\n",
       "      <td>text/plain; charset=us-ascii</td>\n",
       "      <td>CRF_False</td>\n",
       "      <td>SF_False</td>\n",
       "      <td>LC_False</td>\n",
       "      <td>Internal</td>\n",
       "      <td>0</td>\n",
       "    </tr>\n",
       "    <tr>\n",
       "      <th>4</th>\n",
       "      <td>From_sara.shackleton@enron.com</td>\n",
       "      <td>To_mark.taylor@enron.com</td>\n",
       "      <td>kaye.ellis@enron.com</td>\n",
       "      <td>kaye.ellis@enron.com</td>\n",
       "      <td>Eye doctor - 8:15 am on Tuesday, Jan. 11</td>\n",
       "      <td>Eye doctor 8:15 am on Tuesday, Jan. 11 I shouldn't be too late. ss</td>\n",
       "      <td>text/plain; charset=us-ascii</td>\n",
       "      <td>CRF_False</td>\n",
       "      <td>SF_False</td>\n",
       "      <td>LC_False</td>\n",
       "      <td>Internal</td>\n",
       "      <td>0</td>\n",
       "    </tr>\n",
       "  </tbody>\n",
       "</table>\n",
       "</div>"
      ],
      "text/plain": [
       "                             From                          To  \\\n",
       "0  From_tori.kuykendall@enron.com  To_martin.cuilla@enron.com   \n",
       "1   From_robin.rodrigue@enron.com     To_pallen70@hotmail.com   \n",
       "2    From_jeff.dasovich@enron.com  To_james.steffes@enron.com   \n",
       "3     From_mike.grigsby@enron.com      To_anne.bike@enron.com   \n",
       "4  From_sara.shackleton@enron.com    To_mark.taylor@enron.com   \n",
       "\n",
       "                                                                           Cc  \\\n",
       "0                                                                               \n",
       "1                                                                               \n",
       "2  karen.denne@enron.com mpalmer@enron.com rshapiro@enron.com skean@enron.com   \n",
       "3                                                                               \n",
       "4                                                        kaye.ellis@enron.com   \n",
       "\n",
       "                                                                          Bcc  \\\n",
       "0                                                                               \n",
       "1                                                                               \n",
       "2  karen.denne@enron.com mpalmer@enron.com rshapiro@enron.com skean@enron.com   \n",
       "3                                                                               \n",
       "4                                                        kaye.ellis@enron.com   \n",
       "\n",
       "                                    Subject  \\\n",
       "0                               free agency   \n",
       "1                                      9/13   \n",
       "2                         Re: Rebecca Smith   \n",
       "3                               CIG and WIC   \n",
       "4  Eye doctor - 8:15 am on Tuesday, Jan. 11   \n",
       "\n",
       "                                                                                                                                                                                                                                                                                                                                         Body  \\\n",
       "0                                                                                                                                                                                                                                                                                     free agency i would like to bid 5 points on jay fiedler   \n",
       "1                                                                                                                                                                                                                                                                                                             9/13 Have a good evening. Robin   \n",
       "2                                Agree completely. Notion I had was that we give Rebecca the slides, tell her the story on background, then she trots off to interview McNeally, Ellison, etc. Just a thought. Might be easier, faster channel that achieves the quick action/message we're looking for. James D Steffes 10/05/2000 08:30 PM    \n",
       "3  Please write up a ticket transferring my CIG and WIC April physical positions to IM denver. I will be selling CIG index to Jay at CIG index flat and buying the 2000/d at CIG index minus .03. Also, run a report of all my term index positions at CIG and WIC for the summer, so that we can transfer these to Jay as well. Thanks, Mike   \n",
       "4                                                                                                                                                                                                                                                                          Eye doctor 8:15 am on Tuesday, Jan. 11 I shouldn't be too late. ss   \n",
       "\n",
       "                   Content-Type Contains-Reply-Forwards Suspicious-Folders  \\\n",
       "0  text/plain; charset=us-ascii               CRF_False           SF_False   \n",
       "1  text/plain; charset=us-ascii               CRF_False           SF_False   \n",
       "2  text/plain; charset=us-ascii               CRF_False           SF_False   \n",
       "3  text/plain; charset=us-ascii               CRF_False           SF_False   \n",
       "4  text/plain; charset=us-ascii               CRF_False           SF_False   \n",
       "\n",
       "   Low-Comm Sender-Type  Label  \n",
       "0  LC_False    Internal      0  \n",
       "1  LC_False    Internal      0  \n",
       "2  LC_False    Internal      0  \n",
       "3  LC_False    Internal      0  \n",
       "4  LC_False    Internal      0  "
      ]
     },
     "execution_count": 102,
     "metadata": {},
     "output_type": "execute_result"
    }
   ],
   "source": [
    "# Concatenar un prefijo a los valores de cada columna\n",
    "datos_seleccionados_train['Contains-Reply-Forwards'] = 'CRF_' + datos_seleccionados_train['Contains-Reply-Forwards'].astype('str')\n",
    "datos_seleccionados_train['Suspicious-Folders'] = 'SF_' + datos_seleccionados_train['Suspicious-Folders'].astype('str')\n",
    "datos_seleccionados_train['Low-Comm'] = 'LC_' + datos_seleccionados_train['Low-Comm'].astype('str')\n",
    "datos_seleccionados_train['From'] = 'From_' + datos_seleccionados_train['From']\n",
    "datos_seleccionados_train['To'] = 'To_' + datos_seleccionados_train['To']\n",
    "# datos_seleccionados_train['Cc'] = 'Cc_' + datos_seleccionados_train['Cc']\n",
    "# datos_seleccionados_train['Bcc'] = 'Bcc_' + datos_seleccionados_train['Bcc']\n",
    "\n",
    "\n",
    "\n",
    "\n",
    "datos_seleccionados_test['Contains-Reply-Forwards'] = 'CRF_' + datos_seleccionados_test['Contains-Reply-Forwards'].astype('str')\n",
    "datos_seleccionados_test['Suspicious-Folders'] = 'SF_' + datos_seleccionados_test['Suspicious-Folders'].astype('str')\n",
    "datos_seleccionados_test['Low-Comm'] = 'LC_' + datos_seleccionados_test['Low-Comm'].astype('str')\n",
    "datos_seleccionados_test['From'] = 'From_' + datos_seleccionados_test['From']\n",
    "datos_seleccionados_test['To'] = 'To_' + datos_seleccionados_test['To']\n",
    "# datos_seleccionados_test['Cc'] = 'Cc_' + datos_seleccionados_test['Cc']\n",
    "# datos_seleccionados_test['Bcc'] = 'Bcc_' + datos_seleccionados_test['Bcc']\n",
    "\n",
    "# Mostrar los primeros registros\n",
    "datos_seleccionados_train.head()"
   ]
  },
  {
   "cell_type": "code",
   "execution_count": 103,
   "id": "b2f01821",
   "metadata": {},
   "outputs": [
    {
     "data": {
      "text/plain": [
       "89484"
      ]
     },
     "execution_count": 103,
     "metadata": {},
     "output_type": "execute_result"
    }
   ],
   "source": [
    "len(datos_seleccionados_train)"
   ]
  },
  {
   "cell_type": "code",
   "execution_count": 104,
   "id": "14943610",
   "metadata": {},
   "outputs": [],
   "source": [
    "# Quitamos duplicados donde el asunto y el contenido sea el mismo\n",
    "datos_seleccionados_train = datos_seleccionados_train.drop_duplicates(subset=['From', 'Subject', 'Body'])\n",
    "datos_seleccionados_test = datos_seleccionados_test.drop_duplicates(subset=['From', 'Subject', 'Body'])"
   ]
  },
  {
   "cell_type": "code",
   "execution_count": 105,
   "id": "7ed8b552",
   "metadata": {},
   "outputs": [
    {
     "data": {
      "text/plain": [
       "77458"
      ]
     },
     "execution_count": 105,
     "metadata": {},
     "output_type": "execute_result"
    }
   ],
   "source": [
    "len(datos_seleccionados_train)"
   ]
  },
  {
   "cell_type": "code",
   "execution_count": 106,
   "id": "21f86a7f",
   "metadata": {},
   "outputs": [],
   "source": [
    "# Juntamos el asunto y el body\n",
    "datos_seleccionados_train['clean_text'] = datos_seleccionados_train['Subject'] + ' ' + datos_seleccionados_train['Body'] + ' ' + datos_seleccionados_train['Content-Type'] \n",
    "datos_seleccionados_test['clean_text'] = datos_seleccionados_test['Subject'] + ' ' + datos_seleccionados_test['Body'] + ' ' + datos_seleccionados_train['Content-Type'] "
   ]
  },
  {
   "cell_type": "code",
   "execution_count": 107,
   "id": "34e4baab",
   "metadata": {},
   "outputs": [],
   "source": [
    "datos_seleccionados_train = datos_seleccionados_train.reset_index(drop=True)\n",
    "datos_seleccionados_test = datos_seleccionados_test.reset_index(drop=True)"
   ]
  },
  {
   "cell_type": "code",
   "execution_count": 108,
   "id": "7ae75a14",
   "metadata": {},
   "outputs": [],
   "source": [
    "import string"
   ]
  },
  {
   "cell_type": "code",
   "execution_count": 109,
   "id": "c377f57a",
   "metadata": {},
   "outputs": [
    {
     "data": {
      "text/html": [
       "<div>\n",
       "<style scoped>\n",
       "    .dataframe tbody tr th:only-of-type {\n",
       "        vertical-align: middle;\n",
       "    }\n",
       "\n",
       "    .dataframe tbody tr th {\n",
       "        vertical-align: top;\n",
       "    }\n",
       "\n",
       "    .dataframe thead th {\n",
       "        text-align: right;\n",
       "    }\n",
       "</style>\n",
       "<table border=\"1\" class=\"dataframe\">\n",
       "  <thead>\n",
       "    <tr style=\"text-align: right;\">\n",
       "      <th></th>\n",
       "      <th>From</th>\n",
       "      <th>To</th>\n",
       "      <th>Cc</th>\n",
       "      <th>Bcc</th>\n",
       "      <th>Subject</th>\n",
       "      <th>Body</th>\n",
       "      <th>Content-Type</th>\n",
       "      <th>Contains-Reply-Forwards</th>\n",
       "      <th>Suspicious-Folders</th>\n",
       "      <th>Low-Comm</th>\n",
       "      <th>Sender-Type</th>\n",
       "      <th>Label</th>\n",
       "      <th>clean_text</th>\n",
       "    </tr>\n",
       "  </thead>\n",
       "  <tbody>\n",
       "    <tr>\n",
       "      <th>0</th>\n",
       "      <td>From_tori.kuykendall@enron.com</td>\n",
       "      <td>To_martin.cuilla@enron.com</td>\n",
       "      <td></td>\n",
       "      <td></td>\n",
       "      <td>free agency</td>\n",
       "      <td>free agency i would like to bid 5 points on jay fiedler</td>\n",
       "      <td>text/plain; charset=us-ascii</td>\n",
       "      <td>CRF_False</td>\n",
       "      <td>SF_False</td>\n",
       "      <td>LC_False</td>\n",
       "      <td>Internal</td>\n",
       "      <td>0</td>\n",
       "      <td>free agency free agency i would like to bid 5 points on jay fiedler textplain charsetusascii</td>\n",
       "    </tr>\n",
       "    <tr>\n",
       "      <th>1</th>\n",
       "      <td>From_robin.rodrigue@enron.com</td>\n",
       "      <td>To_pallen70@hotmail.com</td>\n",
       "      <td></td>\n",
       "      <td></td>\n",
       "      <td>9/13</td>\n",
       "      <td>9/13 Have a good evening. Robin</td>\n",
       "      <td>text/plain; charset=us-ascii</td>\n",
       "      <td>CRF_False</td>\n",
       "      <td>SF_False</td>\n",
       "      <td>LC_False</td>\n",
       "      <td>Internal</td>\n",
       "      <td>0</td>\n",
       "      <td>913 913 have a good evening robin textplain charsetusascii</td>\n",
       "    </tr>\n",
       "    <tr>\n",
       "      <th>2</th>\n",
       "      <td>From_jeff.dasovich@enron.com</td>\n",
       "      <td>To_james.steffes@enron.com</td>\n",
       "      <td>karen.denne@enron.com mpalmer@enron.com rshapiro@enron.com skean@enron.com</td>\n",
       "      <td>karen.denne@enron.com mpalmer@enron.com rshapiro@enron.com skean@enron.com</td>\n",
       "      <td>Re: Rebecca Smith</td>\n",
       "      <td>Agree completely. Notion I had was that we give Rebecca the slides, tell her the story on background, then she trots off to interview McNeally, Ellison, etc. Just a thought. Might be easier, faster channel that achieves the quick action/message we're looking for. James D Steffes 10/05/2000 08:30 PM</td>\n",
       "      <td>text/plain; charset=us-ascii</td>\n",
       "      <td>CRF_False</td>\n",
       "      <td>SF_False</td>\n",
       "      <td>LC_False</td>\n",
       "      <td>Internal</td>\n",
       "      <td>0</td>\n",
       "      <td>re rebecca smith agree completely notion i had was that we give rebecca the slides tell her the story on background then she trots off to interview mcneally ellison etc just a thought might be easier faster channel that achieves the quick actionmessage were looking for james d steffes 10052000 0830 pm  textplain charsetusascii</td>\n",
       "    </tr>\n",
       "    <tr>\n",
       "      <th>3</th>\n",
       "      <td>From_mike.grigsby@enron.com</td>\n",
       "      <td>To_anne.bike@enron.com</td>\n",
       "      <td></td>\n",
       "      <td></td>\n",
       "      <td>CIG and WIC</td>\n",
       "      <td>Please write up a ticket transferring my CIG and WIC April physical positions to IM denver. I will be selling CIG index to Jay at CIG index flat and buying the 2000/d at CIG index minus .03. Also, run a report of all my term index positions at CIG and WIC for the summer, so that we can transfer these to Jay as well. Thanks, Mike</td>\n",
       "      <td>text/plain; charset=us-ascii</td>\n",
       "      <td>CRF_False</td>\n",
       "      <td>SF_False</td>\n",
       "      <td>LC_False</td>\n",
       "      <td>Internal</td>\n",
       "      <td>0</td>\n",
       "      <td>cig and wic please write up a ticket transferring my cig and wic april physical positions to im denver i will be selling cig index to jay at cig index flat and buying the 2000d at cig index minus 03 also run a report of all my term index positions at cig and wic for the summer so that we can transfer these to jay as well thanks mike textplain charsetusascii</td>\n",
       "    </tr>\n",
       "    <tr>\n",
       "      <th>4</th>\n",
       "      <td>From_sara.shackleton@enron.com</td>\n",
       "      <td>To_mark.taylor@enron.com</td>\n",
       "      <td>kaye.ellis@enron.com</td>\n",
       "      <td>kaye.ellis@enron.com</td>\n",
       "      <td>Eye doctor - 8:15 am on Tuesday, Jan. 11</td>\n",
       "      <td>Eye doctor 8:15 am on Tuesday, Jan. 11 I shouldn't be too late. ss</td>\n",
       "      <td>text/plain; charset=us-ascii</td>\n",
       "      <td>CRF_False</td>\n",
       "      <td>SF_False</td>\n",
       "      <td>LC_False</td>\n",
       "      <td>Internal</td>\n",
       "      <td>0</td>\n",
       "      <td>eye doctor  815 am on tuesday jan 11 eye doctor 815 am on tuesday jan 11 i shouldnt be too late ss textplain charsetusascii</td>\n",
       "    </tr>\n",
       "  </tbody>\n",
       "</table>\n",
       "</div>"
      ],
      "text/plain": [
       "                             From                          To  \\\n",
       "0  From_tori.kuykendall@enron.com  To_martin.cuilla@enron.com   \n",
       "1   From_robin.rodrigue@enron.com     To_pallen70@hotmail.com   \n",
       "2    From_jeff.dasovich@enron.com  To_james.steffes@enron.com   \n",
       "3     From_mike.grigsby@enron.com      To_anne.bike@enron.com   \n",
       "4  From_sara.shackleton@enron.com    To_mark.taylor@enron.com   \n",
       "\n",
       "                                                                           Cc  \\\n",
       "0                                                                               \n",
       "1                                                                               \n",
       "2  karen.denne@enron.com mpalmer@enron.com rshapiro@enron.com skean@enron.com   \n",
       "3                                                                               \n",
       "4                                                        kaye.ellis@enron.com   \n",
       "\n",
       "                                                                          Bcc  \\\n",
       "0                                                                               \n",
       "1                                                                               \n",
       "2  karen.denne@enron.com mpalmer@enron.com rshapiro@enron.com skean@enron.com   \n",
       "3                                                                               \n",
       "4                                                        kaye.ellis@enron.com   \n",
       "\n",
       "                                    Subject  \\\n",
       "0                               free agency   \n",
       "1                                      9/13   \n",
       "2                         Re: Rebecca Smith   \n",
       "3                               CIG and WIC   \n",
       "4  Eye doctor - 8:15 am on Tuesday, Jan. 11   \n",
       "\n",
       "                                                                                                                                                                                                                                                                                                                                         Body  \\\n",
       "0                                                                                                                                                                                                                                                                                     free agency i would like to bid 5 points on jay fiedler   \n",
       "1                                                                                                                                                                                                                                                                                                             9/13 Have a good evening. Robin   \n",
       "2                                Agree completely. Notion I had was that we give Rebecca the slides, tell her the story on background, then she trots off to interview McNeally, Ellison, etc. Just a thought. Might be easier, faster channel that achieves the quick action/message we're looking for. James D Steffes 10/05/2000 08:30 PM    \n",
       "3  Please write up a ticket transferring my CIG and WIC April physical positions to IM denver. I will be selling CIG index to Jay at CIG index flat and buying the 2000/d at CIG index minus .03. Also, run a report of all my term index positions at CIG and WIC for the summer, so that we can transfer these to Jay as well. Thanks, Mike   \n",
       "4                                                                                                                                                                                                                                                                          Eye doctor 8:15 am on Tuesday, Jan. 11 I shouldn't be too late. ss   \n",
       "\n",
       "                   Content-Type Contains-Reply-Forwards Suspicious-Folders  \\\n",
       "0  text/plain; charset=us-ascii               CRF_False           SF_False   \n",
       "1  text/plain; charset=us-ascii               CRF_False           SF_False   \n",
       "2  text/plain; charset=us-ascii               CRF_False           SF_False   \n",
       "3  text/plain; charset=us-ascii               CRF_False           SF_False   \n",
       "4  text/plain; charset=us-ascii               CRF_False           SF_False   \n",
       "\n",
       "   Low-Comm Sender-Type  Label  \\\n",
       "0  LC_False    Internal      0   \n",
       "1  LC_False    Internal      0   \n",
       "2  LC_False    Internal      0   \n",
       "3  LC_False    Internal      0   \n",
       "4  LC_False    Internal      0   \n",
       "\n",
       "                                                                                                                                                                                                                                                                                                                                                                clean_text  \n",
       "0                                                                                                                                                                                                                                                                             free agency free agency i would like to bid 5 points on jay fiedler textplain charsetusascii  \n",
       "1                                                                                                                                                                                                                                                                                                               913 913 have a good evening robin textplain charsetusascii  \n",
       "2                                 re rebecca smith agree completely notion i had was that we give rebecca the slides tell her the story on background then she trots off to interview mcneally ellison etc just a thought might be easier faster channel that achieves the quick actionmessage were looking for james d steffes 10052000 0830 pm  textplain charsetusascii  \n",
       "3  cig and wic please write up a ticket transferring my cig and wic april physical positions to im denver i will be selling cig index to jay at cig index flat and buying the 2000d at cig index minus 03 also run a report of all my term index positions at cig and wic for the summer so that we can transfer these to jay as well thanks mike textplain charsetusascii  \n",
       "4                                                                                                                                                                                                                                              eye doctor  815 am on tuesday jan 11 eye doctor 815 am on tuesday jan 11 i shouldnt be too late ss textplain charsetusascii  "
      ]
     },
     "execution_count": 109,
     "metadata": {},
     "output_type": "execute_result"
    }
   ],
   "source": [
    "datos_seleccionados_train['clean_text'] = datos_seleccionados_train['clean_text'].str.lower().str.translate(str.maketrans('', '', string.punctuation))\n",
    "\n",
    "datos_seleccionados_test['clean_text'] = datos_seleccionados_test['clean_text'].str.lower().str.translate(str.maketrans('', '', string.punctuation))\n",
    "\n",
    "datos_seleccionados_train.head()"
   ]
  },
  {
   "cell_type": "code",
   "execution_count": 110,
   "id": "f7efb02c",
   "metadata": {},
   "outputs": [],
   "source": [
    "# concadenamos todas las demas columnas\n",
    "datos_seleccionados_train['clean_text2'] = datos_seleccionados_train.drop(['Label', 'Subject', 'Body', 'Content-Type', 'Bcc', 'Cc'], axis=1).apply(lambda row: ' '.join(row.values.astype(str)), axis=1)\n",
    "datos_seleccionados_test['clean_text2'] = datos_seleccionados_test.drop(['Label', 'Subject', 'Body', 'Content-Type'], axis=1).apply(lambda row: ' '.join(row.values.astype(str)), axis=1)"
   ]
  },
  {
   "cell_type": "code",
   "execution_count": 111,
   "id": "fe901383",
   "metadata": {},
   "outputs": [
    {
     "data": {
      "text/plain": [
       "0                                                                                                                                                                                                                                                                        From_tori.kuykendall@enron.com To_martin.cuilla@enron.com CRF_False SF_False LC_False Internal free agency free agency i would like to bid 5 points on jay fiedler textplain charsetusascii\n",
       "1                                                                                                                                                                                                                                                                                                              From_robin.rodrigue@enron.com To_pallen70@hotmail.com CRF_False SF_False LC_False Internal 913 913 have a good evening robin textplain charsetusascii\n",
       "2                              From_jeff.dasovich@enron.com To_james.steffes@enron.com CRF_False SF_False LC_False Internal re rebecca smith agree completely notion i had was that we give rebecca the slides tell her the story on background then she trots off to interview mcneally ellison etc just a thought might be easier faster channel that achieves the quick actionmessage were looking for james d steffes 10052000 0830 pm  textplain charsetusascii\n",
       "3    From_mike.grigsby@enron.com To_anne.bike@enron.com CRF_False SF_False LC_False Internal cig and wic please write up a ticket transferring my cig and wic april physical positions to im denver i will be selling cig index to jay at cig index flat and buying the 2000d at cig index minus 03 also run a report of all my term index positions at cig and wic for the summer so that we can transfer these to jay as well thanks mike textplain charsetusascii\n",
       "4                                                                                                                                                                                                                                           From_sara.shackleton@enron.com To_mark.taylor@enron.com CRF_False SF_False LC_False Internal eye doctor  815 am on tuesday jan 11 eye doctor 815 am on tuesday jan 11 i shouldnt be too late ss textplain charsetusascii\n",
       "Name: clean_text2, dtype: object"
      ]
     },
     "execution_count": 111,
     "metadata": {},
     "output_type": "execute_result"
    }
   ],
   "source": [
    "# colocamos opcion para imprimir todo el contenido de una columna\n",
    "pd.set_option('display.max_colwidth', None)\n",
    "datos_seleccionados_train['clean_text2'].head()"
   ]
  },
  {
   "cell_type": "code",
   "execution_count": 112,
   "id": "32af318b",
   "metadata": {},
   "outputs": [
    {
     "data": {
      "text/plain": [
       "0                                                                                                                                                                                                                                                                                                                                                                                                                                                                                                                                                                                                                                                                                                                                                                                                                                                                                                                                                                                                                                                                                                                                                                                                    From_kay.mann@enron.com To_isabel.parker@freshfields.com   CRF_False SF_False LC_False Internal contact info isabel if you will email me your contact info i will pass it along to ge thanks kay textplain charsetusascii\n",
       "1                                                                                                                                                                                                                                                                                                                                                                                                                                                                                                                                                                                                                                                                                                                                                                                                                                                                                                                                                                                                                                             From_kay.young@enron.com To_gerald.nemec@enron.com   CRF_True SF_False LC_False Internal re ca data sheets re ca data sheets hi gerald nothing with or pertaining to either party to the best of my knowledge kay kay c young legal specialist enron north america corp 7138536794 phone 7136463393 fax kayyoungenroncom gerald nemec 11012000 1011 am  textplain charsetusascii\n",
       "2                                                                                                                                                                                                                                                                                                                                                                                                                                                                                                                                                                                                                                                                                                                                                                                                                                                                                                                                                                                                                                                                                                                From_chris.germany@enron.com To_susan.pereira@enron.com, lia.halstead@enron.com, scott.loving@enron.com   CRF_False SF_False LC_False Internal egan i changed the egan volumes for the 30th and 31st from 2599 to 4793 on the 30th and 4794 on the 31st this empties out our storage textplain charsetusascii\n",
       "3                                                                                                                                                                                                                                                                                                                                                                                                                                                                                                                                                                                                                                                                                                                                                                                                                                                                                                                                                                                                                                                                                                  From_rod.hayslett@enron.com To_steve.kleb@enron.com tracy.geaccone@enron.com tracy.geaccone@enron.com CRF_True SF_False LC_False Internal fw tw plan and forecast revenue backup fw tw plan and forecast revenue backup what do you have to backup the 2001 and 2002 revenue projectoions for nng  textplain charsetusascii\n",
       "4    From_mara_alexander@cargill.com To_sara.shackleton@enron.com   CRF_False SF_False LC_False External isda master agreement between enron north america corp and\\n cargill incorporated isda master agreement between enron north america corp and cargill incorporated dear sara attached please find our response to the draft amendment to the csa for the abovereferenced agreement you will note that i have added some additional language which our legal dept prefers to include in amendments which i trust will be acceptable to you as well as mentioned briefly over the telephone the other day i have also incorporated some changes with respect to letter of credit provisions the changes to the lc terms are those which our credit department is requiring as a result of a review of cargills lc language the main issue is that an lc issued as collateral can no longer be transferable i note from the file on our isda negotiations that enron may have preferred transferability in order to be able to transfer an lc to its affiliates if this is still the case we can certainly discuss options which may specify and limit transferability accordingly i look forward to your response at your earliest opportunity regards mara alexander sr documentation analyst cargill incorporated tel 9529843417 fax 9529843872 email maraalexandercargillcom 31409amndcsadoc textplain charsetusascii\n",
       "Name: clean_text2, dtype: object"
      ]
     },
     "execution_count": 112,
     "metadata": {},
     "output_type": "execute_result"
    }
   ],
   "source": [
    "datos_seleccionados_test['clean_text2'].head()"
   ]
  },
  {
   "cell_type": "markdown",
   "id": "9101df66",
   "metadata": {},
   "source": [
    "# Entrenamiento"
   ]
  },
  {
   "cell_type": "code",
   "execution_count": 113,
   "id": "ba50628a",
   "metadata": {},
   "outputs": [],
   "source": [
    "from sklearn.feature_extraction.text import CountVectorizer\n",
    "from sklearn.naive_bayes import MultinomialNB\n",
    "import time\n",
    "from imblearn.under_sampling import NearMiss\n",
    "\n",
    "X = datos_seleccionados_train['clean_text2'].values\n",
    "y_train = datos_seleccionados_train['Label'].values\n",
    "\n",
    "X_test = datos_seleccionados_test['clean_text2'].values\n",
    "y_test = datos_seleccionados_test['Label'].values\n",
    "\n",
    "vector = CountVectorizer(stop_words = 'english')\n",
    "X_train_bow = vector.fit_transform(X)\n",
    "X_test_bow = vector.transform(X_test)\n",
    "\n",
    "#us = NearMiss(sampling_strategy=0.01, n_neighbors=10, version=2)\n",
    "#X_train_res, y_train_res = us.fit_resample(X_train_bow, y_train)\n",
    "X_train_res, y_train_res = X_train_bow, y_train"
   ]
  },
  {
   "cell_type": "markdown",
   "id": "2b7599ab",
   "metadata": {},
   "source": [
    "## Naive Bayes"
   ]
  },
  {
   "cell_type": "code",
   "execution_count": 114,
   "id": "27da098a",
   "metadata": {},
   "outputs": [
    {
     "name": "stdout",
     "output_type": "stream",
     "text": [
      "Tiempo de entrenamiento es: 0.0379 segundos\n"
     ]
    }
   ],
   "source": [
    "from sklearn.utils.class_weight import compute_class_weight\n",
    "import numpy as np\n",
    "\n",
    "# Calcular los pesos de las clases\n",
    "#class_weights = compute_class_weight(class_weight='balanced', classes=np.unique(y_train), y=y_train)\n",
    "class_weights = compute_class_weight(class_weight=None, classes=np.unique(y_train), y=y_train)\n",
    "\n",
    "\n",
    "start = time.time()\n",
    "bayes_pred = MultinomialNB(fit_prior=False, class_prior=class_weights)\n",
    "bayes_pred.fit(X_train_res, y_train_res)\n",
    "training_time = time.time() - start\n",
    "print(f\"Tiempo de entrenamiento es: {training_time:.4f} segundos\")\n",
    "\n",
    "predictions = bayes_pred.predict(X_test_bow)"
   ]
  },
  {
   "cell_type": "code",
   "execution_count": 115,
   "id": "e57b6489",
   "metadata": {},
   "outputs": [],
   "source": [
    "import matplotlib.pyplot as plt\n",
    "import numpy as np\n",
    "from sklearn.metrics import confusion_matrix\n",
    "from sklearn.metrics import ConfusionMatrixDisplay"
   ]
  },
  {
   "cell_type": "code",
   "execution_count": 116,
   "id": "58e4b5b5",
   "metadata": {},
   "outputs": [
    {
     "data": {
      "image/png": "[encoded data removed]",
      "text/plain": [
       "<Figure size 640x480 with 2 Axes>"
      ]
     },
     "metadata": {},
     "output_type": "display_data"
    }
   ],
   "source": [
    "cm = confusion_matrix(y_test, predictions)\n",
    "\n",
    "# plot the confusion matrix\n",
    "disp = ConfusionMatrixDisplay(cm, display_labels=np.unique(y_test))\n",
    "disp.plot()\n",
    "plt.show()\n",
    "\n",
    "# 1 fraude (Positivo)\n",
    "# 0 No fraude (Negativo)"
   ]
  },
  {
   "cell_type": "markdown",
   "id": "3ddaf528",
   "metadata": {},
   "source": [
    "## Arbol de decision"
   ]
  },
  {
   "cell_type": "code",
   "execution_count": 117,
   "id": "fae9429d",
   "metadata": {},
   "outputs": [
    {
     "name": "stdout",
     "output_type": "stream",
     "text": [
      "Tiempo de entrenamiento de árbol con entropía es: 4.3320 segundos\n"
     ]
    }
   ],
   "source": [
    "from sklearn.tree import DecisionTreeClassifier\n",
    "from sklearn import tree\n",
    "import time\n",
    "\n",
    "start = time.time()\n",
    "clf = DecisionTreeClassifier(criterion='entropy')\n",
    "clf.fit(X_train_res, y_train_res)\n",
    "training_time = time.time() - start\n",
    "print(f\"Tiempo de entrenamiento de árbol con entropía es: {training_time:.4f} segundos\")\n",
    "\n",
    "predictions = clf.predict(X_test_bow)"
   ]
  },
  {
   "cell_type": "code",
   "execution_count": 118,
   "id": "956c073d",
   "metadata": {},
   "outputs": [
    {
     "data": {
      "image/png": "[encoded data removed]",
      "text/plain": [
       "<Figure size 640x480 with 2 Axes>"
      ]
     },
     "metadata": {},
     "output_type": "display_data"
    }
   ],
   "source": [
    "cm = confusion_matrix(y_test, predictions)\n",
    "\n",
    "# plot the confusion matrix\n",
    "disp = ConfusionMatrixDisplay(cm, display_labels=np.unique(y_test))\n",
    "disp.plot()\n",
    "plt.show()"
   ]
  },
  {
   "cell_type": "markdown",
   "id": "e13c79d7",
   "metadata": {},
   "source": [
    "## SVM"
   ]
  },
  {
   "cell_type": "code",
   "execution_count": 119,
   "id": "27b75c3a",
   "metadata": {},
   "outputs": [],
   "source": [
    "# from sklearn import svm\n",
    "\n",
    "# start = time.time()\n",
    "# clf = svm.SVC(kernel='linear')\n",
    "# clf.fit(X_train_bow, y_train)\n",
    "# training_time = time.time() - start\n",
    "# print(f\"Tiempo de entrenamiento de SVM es: {training_time:.4f} segundos\")\n",
    "\n",
    "# predictions = clf.predict(X_test_bow)"
   ]
  },
  {
   "cell_type": "code",
   "execution_count": 120,
   "id": "19ae7f70",
   "metadata": {},
   "outputs": [],
   "source": [
    "# cm = confusion_matrix(y_test, predictions)\n",
    "\n",
    "# # plot the confusion matrix\n",
    "# disp = ConfusionMatrixDisplay(cm, display_labels=np.unique(y_test))\n",
    "# disp.plot()\n",
    "# plt.show()"
   ]
  },
  {
   "cell_type": "markdown",
   "id": "1ad811c3",
   "metadata": {},
   "source": [
    "## Regresion Lineal"
   ]
  },
  {
   "cell_type": "code",
   "execution_count": 121,
   "id": "3ecd3151",
   "metadata": {},
   "outputs": [
    {
     "name": "stdout",
     "output_type": "stream",
     "text": [
      "Tiempo de entrenamiento de regresión es: 3.5765 segundos\n"
     ]
    }
   ],
   "source": [
    "import numpy as np\n",
    "from sklearn.linear_model import LogisticRegression\n",
    "from sklearn.metrics import confusion_matrix, ConfusionMatrixDisplay\n",
    "import matplotlib.pyplot as plt\n",
    "import time\n",
    "\n",
    "\n",
    "start = time.time()\n",
    "\n",
    "#clf = LogisticRegression(max_iter=1000, class_weight='balanced').fit(X_train_res, y_train_res)\n",
    "clf = LogisticRegression(max_iter=1000).fit(X_train_res, y_train_res)\n",
    "\n",
    "training_time = time.time() - start\n",
    "print(f\"Tiempo de entrenamiento de regresión es: {training_time:.4f} segundos\")\n",
    "\n",
    "predictions = clf.predict(X_test_bow)"
   ]
  },
  {
   "cell_type": "code",
   "execution_count": 122,
   "id": "d5fdd24a",
   "metadata": {},
   "outputs": [
    {
     "data": {
      "image/png": "[encoded data removed]",
      "text/plain": [
       "<Figure size 640x480 with 2 Axes>"
      ]
     },
     "metadata": {},
     "output_type": "display_data"
    }
   ],
   "source": [
    "# Calcula la matriz de confusión\n",
    "cm = confusion_matrix(y_test, predictions)\n",
    "\n",
    "# Muestra la matriz de confusión\n",
    "disp = ConfusionMatrixDisplay(cm, display_labels=np.unique(y_test))\n",
    "disp.plot()\n",
    "plt.show()\n"
   ]
  }
 ],
 "metadata": {
  "kernelspec": {
   "display_name": "Python 3 (ipykernel)",
   "language": "python",
   "name": "python3"
  },
  "language_info": {
   "codemirror_mode": {
    "name": "ipython",
    "version": 3
   },
   "file_extension": ".py",
   "mimetype": "text/x-python",
   "name": "python",
   "nbconvert_exporter": "python",
   "pygments_lexer": "ipython3",
   "version": "3.12.5"
  }
 },
 "nbformat": 4,
 "nbformat_minor": 5
}
